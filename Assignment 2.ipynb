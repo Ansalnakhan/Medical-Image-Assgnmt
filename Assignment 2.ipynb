{
  "nbformat": 4,
  "nbformat_minor": 0,
  "metadata": {
    "colab": {
      "provenance": [],
      "authorship_tag": "ABX9TyNZfPSZsxNn0629E1awYr5F",
      "include_colab_link": true
    },
    "kernelspec": {
      "name": "python3",
      "display_name": "Python 3"
    },
    "language_info": {
      "name": "python"
    }
  },
  "cells": [
    {
      "cell_type": "markdown",
      "metadata": {
        "id": "view-in-github",
        "colab_type": "text"
      },
      "source": [
        "<a href=\"https://colab.research.google.com/github/Ansalnakhan/Medical-Image-Assgnmt/blob/main/Assignment%202.ipynb\" target=\"_parent\"><img src=\"https://colab.research.google.com/assets/colab-badge.svg\" alt=\"Open In Colab\"/></a>"
      ]
    },
    {
      "cell_type": "code",
      "execution_count": 1075,
      "metadata": {
        "id": "LxkXJn7Ojhe9"
      },
      "outputs": [],
      "source": [
        "import pandas as pd \n",
        "import numpy as np"
      ]
    },
    {
      "cell_type": "code",
      "source": [
        "data=pd.read_csv(\"/content/thirddatasetdata2.csv\")"
      ],
      "metadata": {
        "id": "iSJknsJZjkr1"
      },
      "execution_count": 1076,
      "outputs": []
    },
    {
      "cell_type": "code",
      "source": [
        "data['label'].value_counts()"
      ],
      "metadata": {
        "colab": {
          "base_uri": "https://localhost:8080/"
        },
        "id": "p1d5Fl7bkQ1u",
        "outputId": "5217b1ca-c2eb-421f-d847-1c70d71c61a5"
      },
      "execution_count": 1077,
      "outputs": [
        {
          "output_type": "execute_result",
          "data": {
            "text/plain": [
              "adeno       42\n",
              "squamous    35\n",
              "other       12\n",
              "Name: label, dtype: int64"
            ]
          },
          "metadata": {},
          "execution_count": 1077
        }
      ]
    },
    {
      "cell_type": "code",
      "source": [
        "data.columns"
      ],
      "metadata": {
        "colab": {
          "base_uri": "https://localhost:8080/"
        },
        "id": "Quw0TDqRkTyC",
        "outputId": "19728315-53c2-422c-d7ba-05ca2fbb3044"
      },
      "execution_count": 1078,
      "outputs": [
        {
          "output_type": "execute_result",
          "data": {
            "text/plain": [
              "Index(['ID', 'imaging.radiomics.GLCM_autocorr',\n",
              "       'imaging.radiomics.GLCM_clusProm', 'imaging.radiomics.GLCM_clusShade',\n",
              "       'imaging.radiomics.GLCM_clusTend', 'imaging.radiomics.GLCM_contrast',\n",
              "       'imaging.radiomics.GLCM_correl1', 'imaging.radiomics.GLCM_diffEntro',\n",
              "       'imaging.radiomics.GLCM_dissimilar', 'imaging.radiomics.GLCM_energy',\n",
              "       ...\n",
              "       'imaging.radiomics.Wavelet_LLL_stats_median',\n",
              "       'imaging.radiomics.Wavelet_LLL_stats_min',\n",
              "       'imaging.radiomics.Wavelet_LLL_stats_range',\n",
              "       'imaging.radiomics.Wavelet_LLL_stats_rms',\n",
              "       'imaging.radiomics.Wavelet_LLL_stats_skewness',\n",
              "       'imaging.radiomics.Wavelet_LLL_stats_std',\n",
              "       'imaging.radiomics.Wavelet_LLL_stats_totalenergy',\n",
              "       'imaging.radiomics.Wavelet_LLL_stats_uniformity',\n",
              "       'imaging.radiomics.Wavelet_LLL_stats_var', 'label'],\n",
              "      dtype='object', length=652)"
            ]
          },
          "metadata": {},
          "execution_count": 1078
        }
      ]
    },
    {
      "cell_type": "code",
      "source": [
        "data_real = data.replace(np.inf, np.nan)"
      ],
      "metadata": {
        "id": "yb3O8GnGkXAC"
      },
      "execution_count": 1079,
      "outputs": []
    },
    {
      "cell_type": "code",
      "source": [
        "data_real.isnull().sum().sum()"
      ],
      "metadata": {
        "colab": {
          "base_uri": "https://localhost:8080/"
        },
        "id": "EZINIHNnkbU9",
        "outputId": "c62ffa79-6cfb-4667-a59f-b2eb0d1a20fa"
      },
      "execution_count": 1080,
      "outputs": [
        {
          "output_type": "execute_result",
          "data": {
            "text/plain": [
              "0"
            ]
          },
          "metadata": {},
          "execution_count": 1080
        }
      ]
    },
    {
      "cell_type": "code",
      "source": [
        "data_df = data_real.dropna(axis=0)"
      ],
      "metadata": {
        "id": "nsZzpo5IkeBM"
      },
      "execution_count": 1081,
      "outputs": []
    },
    {
      "cell_type": "code",
      "source": [
        "data_df.isnull().sum().sum()"
      ],
      "metadata": {
        "colab": {
          "base_uri": "https://localhost:8080/"
        },
        "id": "lSZ4IAw8kgm_",
        "outputId": "5727bef0-ccab-4299-edd9-fd806c6c68f1"
      },
      "execution_count": 1082,
      "outputs": [
        {
          "output_type": "execute_result",
          "data": {
            "text/plain": [
              "0"
            ]
          },
          "metadata": {},
          "execution_count": 1082
        }
      ]
    },
    {
      "cell_type": "code",
      "source": [
        "data_df"
      ],
      "metadata": {
        "colab": {
          "base_uri": "https://localhost:8080/",
          "height": 488
        },
        "id": "EFNXnv2Gki89",
        "outputId": "2779a8cf-63eb-45b9-9564-d2bc2d68a38d"
      },
      "execution_count": 1083,
      "outputs": [
        {
          "output_type": "execute_result",
          "data": {
            "text/plain": [
              "    ID  imaging.radiomics.GLCM_autocorr  imaging.radiomics.GLCM_clusProm  \\\n",
              "0    1                      1015.604377                     1.728441e+06   \n",
              "1    2                       921.867862                     6.464357e+04   \n",
              "2    3                       632.293653                     2.927069e+04   \n",
              "3    4                       768.887796                     1.016742e+04   \n",
              "4    5                       131.834572                     3.611580e+01   \n",
              "..  ..                              ...                              ...   \n",
              "84  85                       603.054548                     3.314669e+05   \n",
              "85  86                      1726.367922                     4.040858e+04   \n",
              "86  87                       473.814975                     2.669862e+04   \n",
              "87  88                       404.275573                     2.867433e+04   \n",
              "88  89                       681.259465                     6.136644e+04   \n",
              "\n",
              "    imaging.radiomics.GLCM_clusShade  imaging.radiomics.GLCM_clusTend  \\\n",
              "0                      -16203.786420                       995.351478   \n",
              "1                       -1855.872326                       111.303433   \n",
              "2                       -1068.132061                        84.292617   \n",
              "3                        -348.622125                        29.055416   \n",
              "4                          -2.013109                         2.503468   \n",
              "..                               ...                              ...   \n",
              "84                       1834.022542                       488.061895   \n",
              "85                       -874.026124                        31.988221   \n",
              "86                       -868.125572                        98.751127   \n",
              "87                       -707.032249                        93.849341   \n",
              "88                      -1530.954192                       134.468888   \n",
              "\n",
              "    imaging.radiomics.GLCM_contrast  imaging.radiomics.GLCM_correl1  \\\n",
              "0                         22.221434                        0.957409   \n",
              "1                         24.812007                        0.630987   \n",
              "2                          7.278293                        0.839872   \n",
              "3                          6.021883                        0.658310   \n",
              "4                          1.033765                        0.411724   \n",
              "..                              ...                             ...   \n",
              "84                         9.442247                        0.967033   \n",
              "85                         7.225593                        0.632259   \n",
              "86                         5.111226                        0.902248   \n",
              "87                        22.308018                        0.618446   \n",
              "88                        21.364108                        0.725157   \n",
              "\n",
              "    imaging.radiomics.GLCM_diffEntro  imaging.radiomics.GLCM_dissimilar  \\\n",
              "0                           2.037688                           3.085783   \n",
              "1                           2.203000                           3.070020   \n",
              "2                           1.714220                           1.639064   \n",
              "3                           1.641467                           1.628996   \n",
              "4                           1.005289                           0.695758   \n",
              "..                               ...                                ...   \n",
              "84                          1.807970                           1.934324   \n",
              "85                          1.551758                           1.450927   \n",
              "86                          1.633828                           1.522530   \n",
              "87                          2.266238                           3.473518   \n",
              "88                          2.253468                           3.234712   \n",
              "\n",
              "    imaging.radiomics.GLCM_energy  ...  \\\n",
              "0                        0.017533  ...   \n",
              "1                        0.026890  ...   \n",
              "2                        0.054382  ...   \n",
              "3                        0.029925  ...   \n",
              "4                        0.118367  ...   \n",
              "..                            ...  ...   \n",
              "84                       0.024847  ...   \n",
              "85                       0.053324  ...   \n",
              "86                       0.027358  ...   \n",
              "87                       0.008502  ...   \n",
              "88                       0.007381  ...   \n",
              "\n",
              "    imaging.radiomics.Wavelet_LLL_stats_median  \\\n",
              "0                                  1415.663637   \n",
              "1                                  2761.175191   \n",
              "2                                  2860.668702   \n",
              "3                                  2931.331097   \n",
              "4                                  3033.154546   \n",
              "..                                         ...   \n",
              "84                                 4460.909095   \n",
              "85                                 5894.908307   \n",
              "86                                 2636.621869   \n",
              "87                                 2825.492940   \n",
              "88                                 2771.040671   \n",
              "\n",
              "    imaging.radiomics.Wavelet_LLL_stats_min  \\\n",
              "0                               -363.889654   \n",
              "1                                627.327497   \n",
              "2                               1064.846734   \n",
              "3                               1090.306774   \n",
              "4                               2305.169603   \n",
              "..                                      ...   \n",
              "84                              3251.188474   \n",
              "85                              3004.315216   \n",
              "86                              1108.310171   \n",
              "87                              1492.839890   \n",
              "88                               988.253227   \n",
              "\n",
              "    imaging.radiomics.Wavelet_LLL_stats_range  \\\n",
              "0                                 3646.793034   \n",
              "1                                 2591.028927   \n",
              "2                                 2858.450410   \n",
              "3                                 4341.408441   \n",
              "4                                 1481.835287   \n",
              "..                                        ...   \n",
              "84                                2664.350676   \n",
              "85                                3444.537968   \n",
              "86                                2736.174517   \n",
              "87                                1983.158830   \n",
              "88                                2592.351205   \n",
              "\n",
              "    imaging.radiomics.Wavelet_LLL_stats_rms  \\\n",
              "0                               1928.917633   \n",
              "1                               2583.771232   \n",
              "2                               2695.236066   \n",
              "3                               2900.917177   \n",
              "4                               3025.285718   \n",
              "..                                      ...   \n",
              "84                              4833.234698   \n",
              "85                              5846.312571   \n",
              "86                              2525.870412   \n",
              "87                              2777.899166   \n",
              "88                              2666.177912   \n",
              "\n",
              "    imaging.radiomics.Wavelet_LLL_stats_skewness  \\\n",
              "0                                       0.031798   \n",
              "1                                      -1.232774   \n",
              "2                                      -1.243821   \n",
              "3                                      -2.325833   \n",
              "4                                      -1.020618   \n",
              "..                                           ...   \n",
              "84                                      0.147291   \n",
              "85                                     -4.068370   \n",
              "86                                     -0.821885   \n",
              "87                                     -0.622212   \n",
              "88                                     -0.904100   \n",
              "\n",
              "    imaging.radiomics.Wavelet_LLL_stats_std  \\\n",
              "0                               1304.624058   \n",
              "1                                497.655023   \n",
              "2                                359.149777   \n",
              "3                                218.932372   \n",
              "4                                 69.813296   \n",
              "..                                      ...   \n",
              "84                               792.489235   \n",
              "85                               267.867124   \n",
              "86                               373.004255   \n",
              "87                               429.690726   \n",
              "88                               465.168673   \n",
              "\n",
              "    imaging.radiomics.Wavelet_LLL_stats_totalenergy  \\\n",
              "0                                      2.093502e+08   \n",
              "1                                      2.372606e+07   \n",
              "2                                      3.164909e+08   \n",
              "3                                      7.121297e+08   \n",
              "4                                      1.908266e+08   \n",
              "..                                              ...   \n",
              "84                                     2.985662e+08   \n",
              "85                                     4.396834e+08   \n",
              "86                                     3.136865e+08   \n",
              "87                                     5.023587e+09   \n",
              "88                                     8.361023e+07   \n",
              "\n",
              "    imaging.radiomics.Wavelet_LLL_stats_uniformity  \\\n",
              "0                                         0.047220   \n",
              "1                                         0.091541   \n",
              "2                                         0.144030   \n",
              "3                                         0.240815   \n",
              "4                                         0.360381   \n",
              "..                                             ...   \n",
              "84                                        0.091199   \n",
              "85                                        0.189860   \n",
              "86                                        0.095700   \n",
              "87                                        0.049898   \n",
              "88                                        0.056554   \n",
              "\n",
              "    imaging.radiomics.Wavelet_LLL_stats_var     label  \n",
              "0                              1.702044e+09  squamous  \n",
              "1                              2.476605e+08  squamous  \n",
              "2                              1.289886e+05     adeno  \n",
              "3                              4.793138e+04  squamous  \n",
              "4                              4.873896e+03     adeno  \n",
              "..                                      ...       ...  \n",
              "84                             6.280392e+05  squamous  \n",
              "85                             7.175280e+04  squamous  \n",
              "86                             1.391322e+05  squamous  \n",
              "87                             1.846341e+05     other  \n",
              "88                             2.163819e+05     adeno  \n",
              "\n",
              "[89 rows x 652 columns]"
            ],
            "text/html": [
              "\n",
              "  <div id=\"df-c1333f3d-8c25-4651-b1da-1b5fb71db3e2\">\n",
              "    <div class=\"colab-df-container\">\n",
              "      <div>\n",
              "<style scoped>\n",
              "    .dataframe tbody tr th:only-of-type {\n",
              "        vertical-align: middle;\n",
              "    }\n",
              "\n",
              "    .dataframe tbody tr th {\n",
              "        vertical-align: top;\n",
              "    }\n",
              "\n",
              "    .dataframe thead th {\n",
              "        text-align: right;\n",
              "    }\n",
              "</style>\n",
              "<table border=\"1\" class=\"dataframe\">\n",
              "  <thead>\n",
              "    <tr style=\"text-align: right;\">\n",
              "      <th></th>\n",
              "      <th>ID</th>\n",
              "      <th>imaging.radiomics.GLCM_autocorr</th>\n",
              "      <th>imaging.radiomics.GLCM_clusProm</th>\n",
              "      <th>imaging.radiomics.GLCM_clusShade</th>\n",
              "      <th>imaging.radiomics.GLCM_clusTend</th>\n",
              "      <th>imaging.radiomics.GLCM_contrast</th>\n",
              "      <th>imaging.radiomics.GLCM_correl1</th>\n",
              "      <th>imaging.radiomics.GLCM_diffEntro</th>\n",
              "      <th>imaging.radiomics.GLCM_dissimilar</th>\n",
              "      <th>imaging.radiomics.GLCM_energy</th>\n",
              "      <th>...</th>\n",
              "      <th>imaging.radiomics.Wavelet_LLL_stats_median</th>\n",
              "      <th>imaging.radiomics.Wavelet_LLL_stats_min</th>\n",
              "      <th>imaging.radiomics.Wavelet_LLL_stats_range</th>\n",
              "      <th>imaging.radiomics.Wavelet_LLL_stats_rms</th>\n",
              "      <th>imaging.radiomics.Wavelet_LLL_stats_skewness</th>\n",
              "      <th>imaging.radiomics.Wavelet_LLL_stats_std</th>\n",
              "      <th>imaging.radiomics.Wavelet_LLL_stats_totalenergy</th>\n",
              "      <th>imaging.radiomics.Wavelet_LLL_stats_uniformity</th>\n",
              "      <th>imaging.radiomics.Wavelet_LLL_stats_var</th>\n",
              "      <th>label</th>\n",
              "    </tr>\n",
              "  </thead>\n",
              "  <tbody>\n",
              "    <tr>\n",
              "      <th>0</th>\n",
              "      <td>1</td>\n",
              "      <td>1015.604377</td>\n",
              "      <td>1.728441e+06</td>\n",
              "      <td>-16203.786420</td>\n",
              "      <td>995.351478</td>\n",
              "      <td>22.221434</td>\n",
              "      <td>0.957409</td>\n",
              "      <td>2.037688</td>\n",
              "      <td>3.085783</td>\n",
              "      <td>0.017533</td>\n",
              "      <td>...</td>\n",
              "      <td>1415.663637</td>\n",
              "      <td>-363.889654</td>\n",
              "      <td>3646.793034</td>\n",
              "      <td>1928.917633</td>\n",
              "      <td>0.031798</td>\n",
              "      <td>1304.624058</td>\n",
              "      <td>2.093502e+08</td>\n",
              "      <td>0.047220</td>\n",
              "      <td>1.702044e+09</td>\n",
              "      <td>squamous</td>\n",
              "    </tr>\n",
              "    <tr>\n",
              "      <th>1</th>\n",
              "      <td>2</td>\n",
              "      <td>921.867862</td>\n",
              "      <td>6.464357e+04</td>\n",
              "      <td>-1855.872326</td>\n",
              "      <td>111.303433</td>\n",
              "      <td>24.812007</td>\n",
              "      <td>0.630987</td>\n",
              "      <td>2.203000</td>\n",
              "      <td>3.070020</td>\n",
              "      <td>0.026890</td>\n",
              "      <td>...</td>\n",
              "      <td>2761.175191</td>\n",
              "      <td>627.327497</td>\n",
              "      <td>2591.028927</td>\n",
              "      <td>2583.771232</td>\n",
              "      <td>-1.232774</td>\n",
              "      <td>497.655023</td>\n",
              "      <td>2.372606e+07</td>\n",
              "      <td>0.091541</td>\n",
              "      <td>2.476605e+08</td>\n",
              "      <td>squamous</td>\n",
              "    </tr>\n",
              "    <tr>\n",
              "      <th>2</th>\n",
              "      <td>3</td>\n",
              "      <td>632.293653</td>\n",
              "      <td>2.927069e+04</td>\n",
              "      <td>-1068.132061</td>\n",
              "      <td>84.292617</td>\n",
              "      <td>7.278293</td>\n",
              "      <td>0.839872</td>\n",
              "      <td>1.714220</td>\n",
              "      <td>1.639064</td>\n",
              "      <td>0.054382</td>\n",
              "      <td>...</td>\n",
              "      <td>2860.668702</td>\n",
              "      <td>1064.846734</td>\n",
              "      <td>2858.450410</td>\n",
              "      <td>2695.236066</td>\n",
              "      <td>-1.243821</td>\n",
              "      <td>359.149777</td>\n",
              "      <td>3.164909e+08</td>\n",
              "      <td>0.144030</td>\n",
              "      <td>1.289886e+05</td>\n",
              "      <td>adeno</td>\n",
              "    </tr>\n",
              "    <tr>\n",
              "      <th>3</th>\n",
              "      <td>4</td>\n",
              "      <td>768.887796</td>\n",
              "      <td>1.016742e+04</td>\n",
              "      <td>-348.622125</td>\n",
              "      <td>29.055416</td>\n",
              "      <td>6.021883</td>\n",
              "      <td>0.658310</td>\n",
              "      <td>1.641467</td>\n",
              "      <td>1.628996</td>\n",
              "      <td>0.029925</td>\n",
              "      <td>...</td>\n",
              "      <td>2931.331097</td>\n",
              "      <td>1090.306774</td>\n",
              "      <td>4341.408441</td>\n",
              "      <td>2900.917177</td>\n",
              "      <td>-2.325833</td>\n",
              "      <td>218.932372</td>\n",
              "      <td>7.121297e+08</td>\n",
              "      <td>0.240815</td>\n",
              "      <td>4.793138e+04</td>\n",
              "      <td>squamous</td>\n",
              "    </tr>\n",
              "    <tr>\n",
              "      <th>4</th>\n",
              "      <td>5</td>\n",
              "      <td>131.834572</td>\n",
              "      <td>3.611580e+01</td>\n",
              "      <td>-2.013109</td>\n",
              "      <td>2.503468</td>\n",
              "      <td>1.033765</td>\n",
              "      <td>0.411724</td>\n",
              "      <td>1.005289</td>\n",
              "      <td>0.695758</td>\n",
              "      <td>0.118367</td>\n",
              "      <td>...</td>\n",
              "      <td>3033.154546</td>\n",
              "      <td>2305.169603</td>\n",
              "      <td>1481.835287</td>\n",
              "      <td>3025.285718</td>\n",
              "      <td>-1.020618</td>\n",
              "      <td>69.813296</td>\n",
              "      <td>1.908266e+08</td>\n",
              "      <td>0.360381</td>\n",
              "      <td>4.873896e+03</td>\n",
              "      <td>adeno</td>\n",
              "    </tr>\n",
              "    <tr>\n",
              "      <th>...</th>\n",
              "      <td>...</td>\n",
              "      <td>...</td>\n",
              "      <td>...</td>\n",
              "      <td>...</td>\n",
              "      <td>...</td>\n",
              "      <td>...</td>\n",
              "      <td>...</td>\n",
              "      <td>...</td>\n",
              "      <td>...</td>\n",
              "      <td>...</td>\n",
              "      <td>...</td>\n",
              "      <td>...</td>\n",
              "      <td>...</td>\n",
              "      <td>...</td>\n",
              "      <td>...</td>\n",
              "      <td>...</td>\n",
              "      <td>...</td>\n",
              "      <td>...</td>\n",
              "      <td>...</td>\n",
              "      <td>...</td>\n",
              "      <td>...</td>\n",
              "    </tr>\n",
              "    <tr>\n",
              "      <th>84</th>\n",
              "      <td>85</td>\n",
              "      <td>603.054548</td>\n",
              "      <td>3.314669e+05</td>\n",
              "      <td>1834.022542</td>\n",
              "      <td>488.061895</td>\n",
              "      <td>9.442247</td>\n",
              "      <td>0.967033</td>\n",
              "      <td>1.807970</td>\n",
              "      <td>1.934324</td>\n",
              "      <td>0.024847</td>\n",
              "      <td>...</td>\n",
              "      <td>4460.909095</td>\n",
              "      <td>3251.188474</td>\n",
              "      <td>2664.350676</td>\n",
              "      <td>4833.234698</td>\n",
              "      <td>0.147291</td>\n",
              "      <td>792.489235</td>\n",
              "      <td>2.985662e+08</td>\n",
              "      <td>0.091199</td>\n",
              "      <td>6.280392e+05</td>\n",
              "      <td>squamous</td>\n",
              "    </tr>\n",
              "    <tr>\n",
              "      <th>85</th>\n",
              "      <td>86</td>\n",
              "      <td>1726.367922</td>\n",
              "      <td>4.040858e+04</td>\n",
              "      <td>-874.026124</td>\n",
              "      <td>31.988221</td>\n",
              "      <td>7.225593</td>\n",
              "      <td>0.632259</td>\n",
              "      <td>1.551758</td>\n",
              "      <td>1.450927</td>\n",
              "      <td>0.053324</td>\n",
              "      <td>...</td>\n",
              "      <td>5894.908307</td>\n",
              "      <td>3004.315216</td>\n",
              "      <td>3444.537968</td>\n",
              "      <td>5846.312571</td>\n",
              "      <td>-4.068370</td>\n",
              "      <td>267.867124</td>\n",
              "      <td>4.396834e+08</td>\n",
              "      <td>0.189860</td>\n",
              "      <td>7.175280e+04</td>\n",
              "      <td>squamous</td>\n",
              "    </tr>\n",
              "    <tr>\n",
              "      <th>86</th>\n",
              "      <td>87</td>\n",
              "      <td>473.814975</td>\n",
              "      <td>2.669862e+04</td>\n",
              "      <td>-868.125572</td>\n",
              "      <td>98.751127</td>\n",
              "      <td>5.111226</td>\n",
              "      <td>0.902248</td>\n",
              "      <td>1.633828</td>\n",
              "      <td>1.522530</td>\n",
              "      <td>0.027358</td>\n",
              "      <td>...</td>\n",
              "      <td>2636.621869</td>\n",
              "      <td>1108.310171</td>\n",
              "      <td>2736.174517</td>\n",
              "      <td>2525.870412</td>\n",
              "      <td>-0.821885</td>\n",
              "      <td>373.004255</td>\n",
              "      <td>3.136865e+08</td>\n",
              "      <td>0.095700</td>\n",
              "      <td>1.391322e+05</td>\n",
              "      <td>squamous</td>\n",
              "    </tr>\n",
              "    <tr>\n",
              "      <th>87</th>\n",
              "      <td>88</td>\n",
              "      <td>404.275573</td>\n",
              "      <td>2.867433e+04</td>\n",
              "      <td>-707.032249</td>\n",
              "      <td>93.849341</td>\n",
              "      <td>22.308018</td>\n",
              "      <td>0.618446</td>\n",
              "      <td>2.266238</td>\n",
              "      <td>3.473518</td>\n",
              "      <td>0.008502</td>\n",
              "      <td>...</td>\n",
              "      <td>2825.492940</td>\n",
              "      <td>1492.839890</td>\n",
              "      <td>1983.158830</td>\n",
              "      <td>2777.899166</td>\n",
              "      <td>-0.622212</td>\n",
              "      <td>429.690726</td>\n",
              "      <td>5.023587e+09</td>\n",
              "      <td>0.049898</td>\n",
              "      <td>1.846341e+05</td>\n",
              "      <td>other</td>\n",
              "    </tr>\n",
              "    <tr>\n",
              "      <th>88</th>\n",
              "      <td>89</td>\n",
              "      <td>681.259465</td>\n",
              "      <td>6.136644e+04</td>\n",
              "      <td>-1530.954192</td>\n",
              "      <td>134.468888</td>\n",
              "      <td>21.364108</td>\n",
              "      <td>0.725157</td>\n",
              "      <td>2.253468</td>\n",
              "      <td>3.234712</td>\n",
              "      <td>0.007381</td>\n",
              "      <td>...</td>\n",
              "      <td>2771.040671</td>\n",
              "      <td>988.253227</td>\n",
              "      <td>2592.351205</td>\n",
              "      <td>2666.177912</td>\n",
              "      <td>-0.904100</td>\n",
              "      <td>465.168673</td>\n",
              "      <td>8.361023e+07</td>\n",
              "      <td>0.056554</td>\n",
              "      <td>2.163819e+05</td>\n",
              "      <td>adeno</td>\n",
              "    </tr>\n",
              "  </tbody>\n",
              "</table>\n",
              "<p>89 rows × 652 columns</p>\n",
              "</div>\n",
              "      <button class=\"colab-df-convert\" onclick=\"convertToInteractive('df-c1333f3d-8c25-4651-b1da-1b5fb71db3e2')\"\n",
              "              title=\"Convert this dataframe to an interactive table.\"\n",
              "              style=\"display:none;\">\n",
              "        \n",
              "  <svg xmlns=\"http://www.w3.org/2000/svg\" height=\"24px\"viewBox=\"0 0 24 24\"\n",
              "       width=\"24px\">\n",
              "    <path d=\"M0 0h24v24H0V0z\" fill=\"none\"/>\n",
              "    <path d=\"M18.56 5.44l.94 2.06.94-2.06 2.06-.94-2.06-.94-.94-2.06-.94 2.06-2.06.94zm-11 1L8.5 8.5l.94-2.06 2.06-.94-2.06-.94L8.5 2.5l-.94 2.06-2.06.94zm10 10l.94 2.06.94-2.06 2.06-.94-2.06-.94-.94-2.06-.94 2.06-2.06.94z\"/><path d=\"M17.41 7.96l-1.37-1.37c-.4-.4-.92-.59-1.43-.59-.52 0-1.04.2-1.43.59L10.3 9.45l-7.72 7.72c-.78.78-.78 2.05 0 2.83L4 21.41c.39.39.9.59 1.41.59.51 0 1.02-.2 1.41-.59l7.78-7.78 2.81-2.81c.8-.78.8-2.07 0-2.86zM5.41 20L4 18.59l7.72-7.72 1.47 1.35L5.41 20z\"/>\n",
              "  </svg>\n",
              "      </button>\n",
              "      \n",
              "  <style>\n",
              "    .colab-df-container {\n",
              "      display:flex;\n",
              "      flex-wrap:wrap;\n",
              "      gap: 12px;\n",
              "    }\n",
              "\n",
              "    .colab-df-convert {\n",
              "      background-color: #E8F0FE;\n",
              "      border: none;\n",
              "      border-radius: 50%;\n",
              "      cursor: pointer;\n",
              "      display: none;\n",
              "      fill: #1967D2;\n",
              "      height: 32px;\n",
              "      padding: 0 0 0 0;\n",
              "      width: 32px;\n",
              "    }\n",
              "\n",
              "    .colab-df-convert:hover {\n",
              "      background-color: #E2EBFA;\n",
              "      box-shadow: 0px 1px 2px rgba(60, 64, 67, 0.3), 0px 1px 3px 1px rgba(60, 64, 67, 0.15);\n",
              "      fill: #174EA6;\n",
              "    }\n",
              "\n",
              "    [theme=dark] .colab-df-convert {\n",
              "      background-color: #3B4455;\n",
              "      fill: #D2E3FC;\n",
              "    }\n",
              "\n",
              "    [theme=dark] .colab-df-convert:hover {\n",
              "      background-color: #434B5C;\n",
              "      box-shadow: 0px 1px 3px 1px rgba(0, 0, 0, 0.15);\n",
              "      filter: drop-shadow(0px 1px 2px rgba(0, 0, 0, 0.3));\n",
              "      fill: #FFFFFF;\n",
              "    }\n",
              "  </style>\n",
              "\n",
              "      <script>\n",
              "        const buttonEl =\n",
              "          document.querySelector('#df-c1333f3d-8c25-4651-b1da-1b5fb71db3e2 button.colab-df-convert');\n",
              "        buttonEl.style.display =\n",
              "          google.colab.kernel.accessAllowed ? 'block' : 'none';\n",
              "\n",
              "        async function convertToInteractive(key) {\n",
              "          const element = document.querySelector('#df-c1333f3d-8c25-4651-b1da-1b5fb71db3e2');\n",
              "          const dataTable =\n",
              "            await google.colab.kernel.invokeFunction('convertToInteractive',\n",
              "                                                     [key], {});\n",
              "          if (!dataTable) return;\n",
              "\n",
              "          const docLinkHtml = 'Like what you see? Visit the ' +\n",
              "            '<a target=\"_blank\" href=https://colab.research.google.com/notebooks/data_table.ipynb>data table notebook</a>'\n",
              "            + ' to learn more about interactive tables.';\n",
              "          element.innerHTML = '';\n",
              "          dataTable['output_type'] = 'display_data';\n",
              "          await google.colab.output.renderOutput(dataTable, element);\n",
              "          const docLink = document.createElement('div');\n",
              "          docLink.innerHTML = docLinkHtml;\n",
              "          element.appendChild(docLink);\n",
              "        }\n",
              "      </script>\n",
              "    </div>\n",
              "  </div>\n",
              "  "
            ]
          },
          "metadata": {},
          "execution_count": 1083
        }
      ]
    },
    {
      "cell_type": "code",
      "source": [
        "data_X = data_df.drop(['label'], axis = 1)"
      ],
      "metadata": {
        "id": "HsVIbhlJkl0G"
      },
      "execution_count": 1084,
      "outputs": []
    },
    {
      "cell_type": "code",
      "source": [
        "data_X.columns"
      ],
      "metadata": {
        "colab": {
          "base_uri": "https://localhost:8080/"
        },
        "id": "EVQPD_eCktLJ",
        "outputId": "6dfa4d13-0cb5-4f2a-a368-b774f98621c6"
      },
      "execution_count": 1085,
      "outputs": [
        {
          "output_type": "execute_result",
          "data": {
            "text/plain": [
              "Index(['ID', 'imaging.radiomics.GLCM_autocorr',\n",
              "       'imaging.radiomics.GLCM_clusProm', 'imaging.radiomics.GLCM_clusShade',\n",
              "       'imaging.radiomics.GLCM_clusTend', 'imaging.radiomics.GLCM_contrast',\n",
              "       'imaging.radiomics.GLCM_correl1', 'imaging.radiomics.GLCM_diffEntro',\n",
              "       'imaging.radiomics.GLCM_dissimilar', 'imaging.radiomics.GLCM_energy',\n",
              "       ...\n",
              "       'imaging.radiomics.Wavelet_LLL_stats_mean',\n",
              "       'imaging.radiomics.Wavelet_LLL_stats_median',\n",
              "       'imaging.radiomics.Wavelet_LLL_stats_min',\n",
              "       'imaging.radiomics.Wavelet_LLL_stats_range',\n",
              "       'imaging.radiomics.Wavelet_LLL_stats_rms',\n",
              "       'imaging.radiomics.Wavelet_LLL_stats_skewness',\n",
              "       'imaging.radiomics.Wavelet_LLL_stats_std',\n",
              "       'imaging.radiomics.Wavelet_LLL_stats_totalenergy',\n",
              "       'imaging.radiomics.Wavelet_LLL_stats_uniformity',\n",
              "       'imaging.radiomics.Wavelet_LLL_stats_var'],\n",
              "      dtype='object', length=651)"
            ]
          },
          "metadata": {},
          "execution_count": 1085
        }
      ]
    },
    {
      "cell_type": "code",
      "source": [
        "data_df.isnull().sum().sum()"
      ],
      "metadata": {
        "colab": {
          "base_uri": "https://localhost:8080/"
        },
        "id": "0PyyNfMAkwka",
        "outputId": "95a823dc-cac6-4ad1-cfda-a408d344c881"
      },
      "execution_count": 1086,
      "outputs": [
        {
          "output_type": "execute_result",
          "data": {
            "text/plain": [
              "0"
            ]
          },
          "metadata": {},
          "execution_count": 1086
        }
      ]
    },
    {
      "cell_type": "code",
      "source": [
        "data_y = data_df['label']"
      ],
      "metadata": {
        "id": "8vbxdnW8kzz0"
      },
      "execution_count": 1087,
      "outputs": []
    },
    {
      "cell_type": "code",
      "source": [
        "from sklearn.preprocessing import LabelEncoder"
      ],
      "metadata": {
        "id": "X9lyxP_kk3W_"
      },
      "execution_count": 1088,
      "outputs": []
    },
    {
      "cell_type": "code",
      "source": [
        "le = LabelEncoder()"
      ],
      "metadata": {
        "id": "GcZnVea9k5TJ"
      },
      "execution_count": 1089,
      "outputs": []
    },
    {
      "cell_type": "code",
      "source": [
        "data_y_trans = le.fit_transform(data_y)\n",
        "le_fid = LabelEncoder()"
      ],
      "metadata": {
        "id": "1xfiqX5qk7Yu"
      },
      "execution_count": 1090,
      "outputs": []
    },
    {
      "cell_type": "code",
      "source": [
        "from sklearn.model_selection import train_test_split\n",
        "X_train, X_test,y_train, y_test = train_test_split(data_X, data_y, train_size = 0.75)"
      ],
      "metadata": {
        "id": "azVJzek6k-C8"
      },
      "execution_count": 1091,
      "outputs": []
    },
    {
      "cell_type": "code",
      "source": [
        "from numpy import loadtxt\n",
        "from xgboost import XGBClassifier\n",
        "from xgboost import plot_importance\n",
        "from matplotlib import pyplot"
      ],
      "metadata": {
        "id": "yqau2LmYm31y"
      },
      "execution_count": 1092,
      "outputs": []
    },
    {
      "cell_type": "code",
      "source": [
        "model = XGBClassifier()\n",
        "model.fit(data_X, data_y_trans)"
      ],
      "metadata": {
        "colab": {
          "base_uri": "https://localhost:8080/"
        },
        "id": "ZdLI4JxCm8q1",
        "outputId": "d39d6689-d429-4765-912d-a5332b385b5a"
      },
      "execution_count": 1093,
      "outputs": [
        {
          "output_type": "execute_result",
          "data": {
            "text/plain": [
              "XGBClassifier(objective='multi:softprob')"
            ]
          },
          "metadata": {},
          "execution_count": 1093
        }
      ]
    },
    {
      "cell_type": "code",
      "source": [
        "feature_importance_std = pd.Series(model.feature_importances_, index=data_X.columns)\n",
        "feature_importance_std.nlargest(20).plot(kind='bar', title='Feature importance')\n",
        "\n",
        "\n",
        "\n"
      ],
      "metadata": {
        "colab": {
          "base_uri": "https://localhost:8080/",
          "height": 616
        },
        "id": "WMkzhkuqlPB9",
        "outputId": "26e5a5c0-75ce-41cb-ed80-4b58e1338f40"
      },
      "execution_count": 1094,
      "outputs": [
        {
          "output_type": "execute_result",
          "data": {
            "text/plain": [
              "<matplotlib.axes._subplots.AxesSubplot at 0x7f71c76e0d50>"
            ]
          },
          "metadata": {},
          "execution_count": 1094
        },
        {
          "output_type": "display_data",
          "data": {
            "text/plain": [
              "<Figure size 432x288 with 1 Axes>"
            ],
            "image/png": "[encoded data removed]"
          },
          "metadata": {
            "needs_background": "light"
          }
        }
      ]
    },
    {
      "cell_type": "code",
      "source": [
        "new_20_features = data_X[['imaging.radiomics.GLCM_autocorr','imaging.radiomics.RLGL_highGrayLevelRunEmphasis','imaging.radiomics.Wavelet_LHL_glcm_inverseVar','imaging.radiomics.Wavelet_LLH_glcm_maxProb','imaging.radiomics.Wavelet_LHL_stats_median','imaging.radiomics.Wavelet_HHH_glcm_invDiffnorm','imaging.radiomics.Wavelet_HHH_stats_rms','imaging.radiomics.Wavelet_LLH_rlgl_longRunEmphasis','imaging.radiomics.Wavelet_LHL_stats_md','imaging.radiomics.Wavelet_LHL_stats_kurtosis','imaging.radiomics.Wavelet_LLH_glcm_homogeneity1','imaging.radiomics.Wavelet_HHL_glcm_sumEntro','imaging.radiomics.Wavelet_HHL_stats_kurtosis','imaging.radiomics.Wavelet_HHL_stats_range','imaging.radiomics.Wavelet_LLH_stats_entropy','imaging.radiomics.GLCM_dissimilar','imaging.radiomics.LoG_sigma_4_5_mm_3D_stats_entropyPos','imaging.radiomics.Wavelet_LLL_glcm_sumVar','imaging.radiomics.Wavelet_LHH_stats_max','imaging.radiomics.Wavelet_LLH_glcm_homogeneity2']]"
      ],
      "metadata": {
        "id": "RJbT5RVRvIZd"
      },
      "execution_count": 1095,
      "outputs": []
    },
    {
      "cell_type": "code",
      "source": [
        "new_20_features"
      ],
      "metadata": {
        "colab": {
          "base_uri": "https://localhost:8080/",
          "height": 488
        },
        "id": "Ngvf6Vkmu_rX",
        "outputId": "86981413-6f1d-4ac0-99f8-5829d171a432"
      },
      "execution_count": 1096,
      "outputs": [
        {
          "output_type": "execute_result",
          "data": {
            "text/plain": [
              "    imaging.radiomics.GLCM_autocorr  \\\n",
              "0                       1015.604377   \n",
              "1                        921.867862   \n",
              "2                        632.293653   \n",
              "3                        768.887796   \n",
              "4                        131.834572   \n",
              "..                              ...   \n",
              "84                       603.054548   \n",
              "85                      1726.367922   \n",
              "86                       473.814975   \n",
              "87                       404.275573   \n",
              "88                       681.259465   \n",
              "\n",
              "    imaging.radiomics.RLGL_highGrayLevelRunEmphasis  \\\n",
              "0                                        906.184645   \n",
              "1                                        817.360531   \n",
              "2                                        559.417695   \n",
              "3                                        755.614330   \n",
              "4                                        127.603607   \n",
              "..                                              ...   \n",
              "84                                       522.135276   \n",
              "85                                      1687.937722   \n",
              "86                                       421.661831   \n",
              "87                                       364.974061   \n",
              "88                                       637.179296   \n",
              "\n",
              "    imaging.radiomics.Wavelet_LHL_glcm_inverseVar  \\\n",
              "0                                        0.364091   \n",
              "1                                        0.372424   \n",
              "2                                        0.422371   \n",
              "3                                        0.343096   \n",
              "4                                        0.435560   \n",
              "..                                            ...   \n",
              "84                                       0.397333   \n",
              "85                                       0.442181   \n",
              "86                                       0.391277   \n",
              "87                                       0.295172   \n",
              "88                                       0.349226   \n",
              "\n",
              "    imaging.radiomics.Wavelet_LLH_glcm_maxProb  \\\n",
              "0                                     0.247806   \n",
              "1                                     0.083983   \n",
              "2                                     0.146146   \n",
              "3                                     0.052410   \n",
              "4                                     0.262326   \n",
              "..                                         ...   \n",
              "84                                    0.064701   \n",
              "85                                    0.122506   \n",
              "86                                    0.075387   \n",
              "87                                    0.045402   \n",
              "88                                    0.035704   \n",
              "\n",
              "    imaging.radiomics.Wavelet_LHL_stats_median  \\\n",
              "0                                    -0.403905   \n",
              "1                                   -12.352443   \n",
              "2                                    -3.151238   \n",
              "3                                    -1.454827   \n",
              "4                                    -2.170232   \n",
              "..                                         ...   \n",
              "84                                    0.746994   \n",
              "85                                   -2.159566   \n",
              "86                                   -2.362284   \n",
              "87                                  -50.472797   \n",
              "88                                   -9.704203   \n",
              "\n",
              "    imaging.radiomics.Wavelet_HHH_glcm_invDiffnorm  \\\n",
              "0                                         0.970219   \n",
              "1                                         0.945367   \n",
              "2                                         0.935608   \n",
              "3                                         0.939968   \n",
              "4                                         0.954269   \n",
              "..                                             ...   \n",
              "84                                        0.932090   \n",
              "85                                        0.944146   \n",
              "86                                        0.953461   \n",
              "87                                        0.901791   \n",
              "88                                        0.935530   \n",
              "\n",
              "    imaging.radiomics.Wavelet_HHH_stats_rms  \\\n",
              "0                                  0.366249   \n",
              "1                                  2.629607   \n",
              "2                                  1.830523   \n",
              "3                                  5.242518   \n",
              "4                                  1.136049   \n",
              "..                                      ...   \n",
              "84                                 0.993138   \n",
              "85                                 3.800023   \n",
              "86                                 0.720354   \n",
              "87                                 1.418434   \n",
              "88                                 3.644421   \n",
              "\n",
              "    imaging.radiomics.Wavelet_LLH_rlgl_longRunEmphasis  \\\n",
              "0                                            5.104663    \n",
              "1                                            2.008250    \n",
              "2                                            3.063361    \n",
              "3                                            1.781892    \n",
              "4                                            4.773797    \n",
              "..                                                ...    \n",
              "84                                           2.081654    \n",
              "85                                           2.271168    \n",
              "86                                           2.617956    \n",
              "87                                           1.486300    \n",
              "88                                           1.689698    \n",
              "\n",
              "    imaging.radiomics.Wavelet_LHL_stats_md  \\\n",
              "0                                14.287439   \n",
              "1                                81.729186   \n",
              "2                                30.018145   \n",
              "3                                30.257499   \n",
              "4                                15.420903   \n",
              "..                                     ...   \n",
              "84                               25.148784   \n",
              "85                               35.122412   \n",
              "86                               26.307920   \n",
              "87                               69.078754   \n",
              "88                               76.653098   \n",
              "\n",
              "    imaging.radiomics.Wavelet_LHL_stats_kurtosis  \\\n",
              "0                                      16.418530   \n",
              "1                                       7.163341   \n",
              "2                                       8.772360   \n",
              "3                                      42.023809   \n",
              "4                                      12.793155   \n",
              "..                                           ...   \n",
              "84                                     10.774038   \n",
              "85                                     17.248399   \n",
              "86                                      5.893239   \n",
              "87                                      4.457320   \n",
              "88                                      5.812689   \n",
              "\n",
              "    imaging.radiomics.Wavelet_LLH_glcm_homogeneity1  \\\n",
              "0                                          0.637856   \n",
              "1                                          0.471293   \n",
              "2                                          0.575880   \n",
              "3                                          0.456366   \n",
              "4                                          0.666596   \n",
              "..                                              ...   \n",
              "84                                         0.476397   \n",
              "85                                         0.527728   \n",
              "86                                         0.539062   \n",
              "87                                         0.394305   \n",
              "88                                         0.408982   \n",
              "\n",
              "    imaging.radiomics.Wavelet_HHL_glcm_sumEntro  \\\n",
              "0                                      2.461463   \n",
              "1                                      2.556454   \n",
              "2                                      2.725080   \n",
              "3                                      2.099518   \n",
              "4                                      1.510912   \n",
              "..                                          ...   \n",
              "84                                     2.611171   \n",
              "85                                     2.679257   \n",
              "86                                     2.603337   \n",
              "87                                     3.175326   \n",
              "88                                     2.671175   \n",
              "\n",
              "    imaging.radiomics.Wavelet_HHL_stats_kurtosis  \\\n",
              "0                                      13.841520   \n",
              "1                                      11.145545   \n",
              "2                                       6.787543   \n",
              "3                                      12.166695   \n",
              "4                                      15.221481   \n",
              "..                                           ...   \n",
              "84                                     10.198610   \n",
              "85                                      9.085355   \n",
              "86                                      7.808384   \n",
              "87                                      4.499409   \n",
              "88                                      7.236369   \n",
              "\n",
              "    imaging.radiomics.Wavelet_HHL_stats_range  \\\n",
              "0                                   30.783068   \n",
              "1                                  114.271811   \n",
              "2                                   67.565994   \n",
              "3                                  203.212241   \n",
              "4                                   50.854349   \n",
              "..                                        ...   \n",
              "84                                  34.994090   \n",
              "85                                 161.972260   \n",
              "86                                  37.726387   \n",
              "87                                  34.695109   \n",
              "88                                  92.388664   \n",
              "\n",
              "    imaging.radiomics.Wavelet_LLH_stats_entropy  \\\n",
              "0                                      2.801491   \n",
              "1                                      3.765674   \n",
              "2                                      2.933697   \n",
              "3                                      3.189578   \n",
              "4                                      2.001353   \n",
              "..                                          ...   \n",
              "84                                     3.603335   \n",
              "85                                     3.356341   \n",
              "86                                     3.105455   \n",
              "87                                     4.070848   \n",
              "88                                     3.693418   \n",
              "\n",
              "    imaging.radiomics.GLCM_dissimilar  \\\n",
              "0                            3.085783   \n",
              "1                            3.070020   \n",
              "2                            1.639064   \n",
              "3                            1.628996   \n",
              "4                            0.695758   \n",
              "..                                ...   \n",
              "84                           1.934324   \n",
              "85                           1.450927   \n",
              "86                           1.522530   \n",
              "87                           3.473518   \n",
              "88                           3.234712   \n",
              "\n",
              "    imaging.radiomics.LoG_sigma_4_5_mm_3D_stats_entropyPos  \\\n",
              "0                                            4.226690        \n",
              "1                                            4.244229        \n",
              "2                                            3.662105        \n",
              "3                                            3.381776        \n",
              "4                                            2.950745        \n",
              "..                                                ...        \n",
              "84                                           2.904409        \n",
              "85                                           3.957663        \n",
              "86                                           3.190619        \n",
              "87                                           3.572003        \n",
              "88                                           3.898564        \n",
              "\n",
              "    imaging.radiomics.Wavelet_LLL_glcm_sumVar  \\\n",
              "0                                 3002.634042   \n",
              "1                                 3162.653199   \n",
              "2                                 1708.340408   \n",
              "3                                 1156.506123   \n",
              "4                                  327.324622   \n",
              "..                                        ...   \n",
              "84                                2157.276752   \n",
              "85                                6139.014540   \n",
              "86                                1236.183080   \n",
              "87                                1339.460766   \n",
              "88                                2353.461248   \n",
              "\n",
              "    imaging.radiomics.Wavelet_LHH_stats_max  \\\n",
              "0                                 72.933189   \n",
              "1                                200.310436   \n",
              "2                                139.666812   \n",
              "3                                262.846363   \n",
              "4                                130.379034   \n",
              "..                                      ...   \n",
              "84                                89.685741   \n",
              "85                               159.531581   \n",
              "86                               100.665361   \n",
              "87                                80.995842   \n",
              "88                               392.413131   \n",
              "\n",
              "    imaging.radiomics.Wavelet_LLH_glcm_homogeneity2  \n",
              "0                                          0.603862  \n",
              "1                                          0.410397  \n",
              "2                                          0.532316  \n",
              "3                                          0.385544  \n",
              "4                                          0.641605  \n",
              "..                                              ...  \n",
              "84                                         0.412710  \n",
              "85                                         0.478140  \n",
              "86                                         0.486234  \n",
              "87                                         0.315943  \n",
              "88                                         0.330369  \n",
              "\n",
              "[89 rows x 20 columns]"
            ],
            "text/html": [
              "\n",
              "  <div id=\"df-3ccac905-6a49-4d53-b249-0844987f028c\">\n",
              "    <div class=\"colab-df-container\">\n",
              "      <div>\n",
              "<style scoped>\n",
              "    .dataframe tbody tr th:only-of-type {\n",
              "        vertical-align: middle;\n",
              "    }\n",
              "\n",
              "    .dataframe tbody tr th {\n",
              "        vertical-align: top;\n",
              "    }\n",
              "\n",
              "    .dataframe thead th {\n",
              "        text-align: right;\n",
              "    }\n",
              "</style>\n",
              "<table border=\"1\" class=\"dataframe\">\n",
              "  <thead>\n",
              "    <tr style=\"text-align: right;\">\n",
              "      <th></th>\n",
              "      <th>imaging.radiomics.GLCM_autocorr</th>\n",
              "      <th>imaging.radiomics.RLGL_highGrayLevelRunEmphasis</th>\n",
              "      <th>imaging.radiomics.Wavelet_LHL_glcm_inverseVar</th>\n",
              "      <th>imaging.radiomics.Wavelet_LLH_glcm_maxProb</th>\n",
              "      <th>imaging.radiomics.Wavelet_LHL_stats_median</th>\n",
              "      <th>imaging.radiomics.Wavelet_HHH_glcm_invDiffnorm</th>\n",
              "      <th>imaging.radiomics.Wavelet_HHH_stats_rms</th>\n",
              "      <th>imaging.radiomics.Wavelet_LLH_rlgl_longRunEmphasis</th>\n",
              "      <th>imaging.radiomics.Wavelet_LHL_stats_md</th>\n",
              "      <th>imaging.radiomics.Wavelet_LHL_stats_kurtosis</th>\n",
              "      <th>imaging.radiomics.Wavelet_LLH_glcm_homogeneity1</th>\n",
              "      <th>imaging.radiomics.Wavelet_HHL_glcm_sumEntro</th>\n",
              "      <th>imaging.radiomics.Wavelet_HHL_stats_kurtosis</th>\n",
              "      <th>imaging.radiomics.Wavelet_HHL_stats_range</th>\n",
              "      <th>imaging.radiomics.Wavelet_LLH_stats_entropy</th>\n",
              "      <th>imaging.radiomics.GLCM_dissimilar</th>\n",
              "      <th>imaging.radiomics.LoG_sigma_4_5_mm_3D_stats_entropyPos</th>\n",
              "      <th>imaging.radiomics.Wavelet_LLL_glcm_sumVar</th>\n",
              "      <th>imaging.radiomics.Wavelet_LHH_stats_max</th>\n",
              "      <th>imaging.radiomics.Wavelet_LLH_glcm_homogeneity2</th>\n",
              "    </tr>\n",
              "  </thead>\n",
              "  <tbody>\n",
              "    <tr>\n",
              "      <th>0</th>\n",
              "      <td>1015.604377</td>\n",
              "      <td>906.184645</td>\n",
              "      <td>0.364091</td>\n",
              "      <td>0.247806</td>\n",
              "      <td>-0.403905</td>\n",
              "      <td>0.970219</td>\n",
              "      <td>0.366249</td>\n",
              "      <td>5.104663</td>\n",
              "      <td>14.287439</td>\n",
              "      <td>16.418530</td>\n",
              "      <td>0.637856</td>\n",
              "      <td>2.461463</td>\n",
              "      <td>13.841520</td>\n",
              "      <td>30.783068</td>\n",
              "      <td>2.801491</td>\n",
              "      <td>3.085783</td>\n",
              "      <td>4.226690</td>\n",
              "      <td>3002.634042</td>\n",
              "      <td>72.933189</td>\n",
              "      <td>0.603862</td>\n",
              "    </tr>\n",
              "    <tr>\n",
              "      <th>1</th>\n",
              "      <td>921.867862</td>\n",
              "      <td>817.360531</td>\n",
              "      <td>0.372424</td>\n",
              "      <td>0.083983</td>\n",
              "      <td>-12.352443</td>\n",
              "      <td>0.945367</td>\n",
              "      <td>2.629607</td>\n",
              "      <td>2.008250</td>\n",
              "      <td>81.729186</td>\n",
              "      <td>7.163341</td>\n",
              "      <td>0.471293</td>\n",
              "      <td>2.556454</td>\n",
              "      <td>11.145545</td>\n",
              "      <td>114.271811</td>\n",
              "      <td>3.765674</td>\n",
              "      <td>3.070020</td>\n",
              "      <td>4.244229</td>\n",
              "      <td>3162.653199</td>\n",
              "      <td>200.310436</td>\n",
              "      <td>0.410397</td>\n",
              "    </tr>\n",
              "    <tr>\n",
              "      <th>2</th>\n",
              "      <td>632.293653</td>\n",
              "      <td>559.417695</td>\n",
              "      <td>0.422371</td>\n",
              "      <td>0.146146</td>\n",
              "      <td>-3.151238</td>\n",
              "      <td>0.935608</td>\n",
              "      <td>1.830523</td>\n",
              "      <td>3.063361</td>\n",
              "      <td>30.018145</td>\n",
              "      <td>8.772360</td>\n",
              "      <td>0.575880</td>\n",
              "      <td>2.725080</td>\n",
              "      <td>6.787543</td>\n",
              "      <td>67.565994</td>\n",
              "      <td>2.933697</td>\n",
              "      <td>1.639064</td>\n",
              "      <td>3.662105</td>\n",
              "      <td>1708.340408</td>\n",
              "      <td>139.666812</td>\n",
              "      <td>0.532316</td>\n",
              "    </tr>\n",
              "    <tr>\n",
              "      <th>3</th>\n",
              "      <td>768.887796</td>\n",
              "      <td>755.614330</td>\n",
              "      <td>0.343096</td>\n",
              "      <td>0.052410</td>\n",
              "      <td>-1.454827</td>\n",
              "      <td>0.939968</td>\n",
              "      <td>5.242518</td>\n",
              "      <td>1.781892</td>\n",
              "      <td>30.257499</td>\n",
              "      <td>42.023809</td>\n",
              "      <td>0.456366</td>\n",
              "      <td>2.099518</td>\n",
              "      <td>12.166695</td>\n",
              "      <td>203.212241</td>\n",
              "      <td>3.189578</td>\n",
              "      <td>1.628996</td>\n",
              "      <td>3.381776</td>\n",
              "      <td>1156.506123</td>\n",
              "      <td>262.846363</td>\n",
              "      <td>0.385544</td>\n",
              "    </tr>\n",
              "    <tr>\n",
              "      <th>4</th>\n",
              "      <td>131.834572</td>\n",
              "      <td>127.603607</td>\n",
              "      <td>0.435560</td>\n",
              "      <td>0.262326</td>\n",
              "      <td>-2.170232</td>\n",
              "      <td>0.954269</td>\n",
              "      <td>1.136049</td>\n",
              "      <td>4.773797</td>\n",
              "      <td>15.420903</td>\n",
              "      <td>12.793155</td>\n",
              "      <td>0.666596</td>\n",
              "      <td>1.510912</td>\n",
              "      <td>15.221481</td>\n",
              "      <td>50.854349</td>\n",
              "      <td>2.001353</td>\n",
              "      <td>0.695758</td>\n",
              "      <td>2.950745</td>\n",
              "      <td>327.324622</td>\n",
              "      <td>130.379034</td>\n",
              "      <td>0.641605</td>\n",
              "    </tr>\n",
              "    <tr>\n",
              "      <th>...</th>\n",
              "      <td>...</td>\n",
              "      <td>...</td>\n",
              "      <td>...</td>\n",
              "      <td>...</td>\n",
              "      <td>...</td>\n",
              "      <td>...</td>\n",
              "      <td>...</td>\n",
              "      <td>...</td>\n",
              "      <td>...</td>\n",
              "      <td>...</td>\n",
              "      <td>...</td>\n",
              "      <td>...</td>\n",
              "      <td>...</td>\n",
              "      <td>...</td>\n",
              "      <td>...</td>\n",
              "      <td>...</td>\n",
              "      <td>...</td>\n",
              "      <td>...</td>\n",
              "      <td>...</td>\n",
              "      <td>...</td>\n",
              "    </tr>\n",
              "    <tr>\n",
              "      <th>84</th>\n",
              "      <td>603.054548</td>\n",
              "      <td>522.135276</td>\n",
              "      <td>0.397333</td>\n",
              "      <td>0.064701</td>\n",
              "      <td>0.746994</td>\n",
              "      <td>0.932090</td>\n",
              "      <td>0.993138</td>\n",
              "      <td>2.081654</td>\n",
              "      <td>25.148784</td>\n",
              "      <td>10.774038</td>\n",
              "      <td>0.476397</td>\n",
              "      <td>2.611171</td>\n",
              "      <td>10.198610</td>\n",
              "      <td>34.994090</td>\n",
              "      <td>3.603335</td>\n",
              "      <td>1.934324</td>\n",
              "      <td>2.904409</td>\n",
              "      <td>2157.276752</td>\n",
              "      <td>89.685741</td>\n",
              "      <td>0.412710</td>\n",
              "    </tr>\n",
              "    <tr>\n",
              "      <th>85</th>\n",
              "      <td>1726.367922</td>\n",
              "      <td>1687.937722</td>\n",
              "      <td>0.442181</td>\n",
              "      <td>0.122506</td>\n",
              "      <td>-2.159566</td>\n",
              "      <td>0.944146</td>\n",
              "      <td>3.800023</td>\n",
              "      <td>2.271168</td>\n",
              "      <td>35.122412</td>\n",
              "      <td>17.248399</td>\n",
              "      <td>0.527728</td>\n",
              "      <td>2.679257</td>\n",
              "      <td>9.085355</td>\n",
              "      <td>161.972260</td>\n",
              "      <td>3.356341</td>\n",
              "      <td>1.450927</td>\n",
              "      <td>3.957663</td>\n",
              "      <td>6139.014540</td>\n",
              "      <td>159.531581</td>\n",
              "      <td>0.478140</td>\n",
              "    </tr>\n",
              "    <tr>\n",
              "      <th>86</th>\n",
              "      <td>473.814975</td>\n",
              "      <td>421.661831</td>\n",
              "      <td>0.391277</td>\n",
              "      <td>0.075387</td>\n",
              "      <td>-2.362284</td>\n",
              "      <td>0.953461</td>\n",
              "      <td>0.720354</td>\n",
              "      <td>2.617956</td>\n",
              "      <td>26.307920</td>\n",
              "      <td>5.893239</td>\n",
              "      <td>0.539062</td>\n",
              "      <td>2.603337</td>\n",
              "      <td>7.808384</td>\n",
              "      <td>37.726387</td>\n",
              "      <td>3.105455</td>\n",
              "      <td>1.522530</td>\n",
              "      <td>3.190619</td>\n",
              "      <td>1236.183080</td>\n",
              "      <td>100.665361</td>\n",
              "      <td>0.486234</td>\n",
              "    </tr>\n",
              "    <tr>\n",
              "      <th>87</th>\n",
              "      <td>404.275573</td>\n",
              "      <td>364.974061</td>\n",
              "      <td>0.295172</td>\n",
              "      <td>0.045402</td>\n",
              "      <td>-50.472797</td>\n",
              "      <td>0.901791</td>\n",
              "      <td>1.418434</td>\n",
              "      <td>1.486300</td>\n",
              "      <td>69.078754</td>\n",
              "      <td>4.457320</td>\n",
              "      <td>0.394305</td>\n",
              "      <td>3.175326</td>\n",
              "      <td>4.499409</td>\n",
              "      <td>34.695109</td>\n",
              "      <td>4.070848</td>\n",
              "      <td>3.473518</td>\n",
              "      <td>3.572003</td>\n",
              "      <td>1339.460766</td>\n",
              "      <td>80.995842</td>\n",
              "      <td>0.315943</td>\n",
              "    </tr>\n",
              "    <tr>\n",
              "      <th>88</th>\n",
              "      <td>681.259465</td>\n",
              "      <td>637.179296</td>\n",
              "      <td>0.349226</td>\n",
              "      <td>0.035704</td>\n",
              "      <td>-9.704203</td>\n",
              "      <td>0.935530</td>\n",
              "      <td>3.644421</td>\n",
              "      <td>1.689698</td>\n",
              "      <td>76.653098</td>\n",
              "      <td>5.812689</td>\n",
              "      <td>0.408982</td>\n",
              "      <td>2.671175</td>\n",
              "      <td>7.236369</td>\n",
              "      <td>92.388664</td>\n",
              "      <td>3.693418</td>\n",
              "      <td>3.234712</td>\n",
              "      <td>3.898564</td>\n",
              "      <td>2353.461248</td>\n",
              "      <td>392.413131</td>\n",
              "      <td>0.330369</td>\n",
              "    </tr>\n",
              "  </tbody>\n",
              "</table>\n",
              "<p>89 rows × 20 columns</p>\n",
              "</div>\n",
              "      <button class=\"colab-df-convert\" onclick=\"convertToInteractive('df-3ccac905-6a49-4d53-b249-0844987f028c')\"\n",
              "              title=\"Convert this dataframe to an interactive table.\"\n",
              "              style=\"display:none;\">\n",
              "        \n",
              "  <svg xmlns=\"http://www.w3.org/2000/svg\" height=\"24px\"viewBox=\"0 0 24 24\"\n",
              "       width=\"24px\">\n",
              "    <path d=\"M0 0h24v24H0V0z\" fill=\"none\"/>\n",
              "    <path d=\"M18.56 5.44l.94 2.06.94-2.06 2.06-.94-2.06-.94-.94-2.06-.94 2.06-2.06.94zm-11 1L8.5 8.5l.94-2.06 2.06-.94-2.06-.94L8.5 2.5l-.94 2.06-2.06.94zm10 10l.94 2.06.94-2.06 2.06-.94-2.06-.94-.94-2.06-.94 2.06-2.06.94z\"/><path d=\"M17.41 7.96l-1.37-1.37c-.4-.4-.92-.59-1.43-.59-.52 0-1.04.2-1.43.59L10.3 9.45l-7.72 7.72c-.78.78-.78 2.05 0 2.83L4 21.41c.39.39.9.59 1.41.59.51 0 1.02-.2 1.41-.59l7.78-7.78 2.81-2.81c.8-.78.8-2.07 0-2.86zM5.41 20L4 18.59l7.72-7.72 1.47 1.35L5.41 20z\"/>\n",
              "  </svg>\n",
              "      </button>\n",
              "      \n",
              "  <style>\n",
              "    .colab-df-container {\n",
              "      display:flex;\n",
              "      flex-wrap:wrap;\n",
              "      gap: 12px;\n",
              "    }\n",
              "\n",
              "    .colab-df-convert {\n",
              "      background-color: #E8F0FE;\n",
              "      border: none;\n",
              "      border-radius: 50%;\n",
              "      cursor: pointer;\n",
              "      display: none;\n",
              "      fill: #1967D2;\n",
              "      height: 32px;\n",
              "      padding: 0 0 0 0;\n",
              "      width: 32px;\n",
              "    }\n",
              "\n",
              "    .colab-df-convert:hover {\n",
              "      background-color: #E2EBFA;\n",
              "      box-shadow: 0px 1px 2px rgba(60, 64, 67, 0.3), 0px 1px 3px 1px rgba(60, 64, 67, 0.15);\n",
              "      fill: #174EA6;\n",
              "    }\n",
              "\n",
              "    [theme=dark] .colab-df-convert {\n",
              "      background-color: #3B4455;\n",
              "      fill: #D2E3FC;\n",
              "    }\n",
              "\n",
              "    [theme=dark] .colab-df-convert:hover {\n",
              "      background-color: #434B5C;\n",
              "      box-shadow: 0px 1px 3px 1px rgba(0, 0, 0, 0.15);\n",
              "      filter: drop-shadow(0px 1px 2px rgba(0, 0, 0, 0.3));\n",
              "      fill: #FFFFFF;\n",
              "    }\n",
              "  </style>\n",
              "\n",
              "      <script>\n",
              "        const buttonEl =\n",
              "          document.querySelector('#df-3ccac905-6a49-4d53-b249-0844987f028c button.colab-df-convert');\n",
              "        buttonEl.style.display =\n",
              "          google.colab.kernel.accessAllowed ? 'block' : 'none';\n",
              "\n",
              "        async function convertToInteractive(key) {\n",
              "          const element = document.querySelector('#df-3ccac905-6a49-4d53-b249-0844987f028c');\n",
              "          const dataTable =\n",
              "            await google.colab.kernel.invokeFunction('convertToInteractive',\n",
              "                                                     [key], {});\n",
              "          if (!dataTable) return;\n",
              "\n",
              "          const docLinkHtml = 'Like what you see? Visit the ' +\n",
              "            '<a target=\"_blank\" href=https://colab.research.google.com/notebooks/data_table.ipynb>data table notebook</a>'\n",
              "            + ' to learn more about interactive tables.';\n",
              "          element.innerHTML = '';\n",
              "          dataTable['output_type'] = 'display_data';\n",
              "          await google.colab.output.renderOutput(dataTable, element);\n",
              "          const docLink = document.createElement('div');\n",
              "          docLink.innerHTML = docLinkHtml;\n",
              "          element.appendChild(docLink);\n",
              "        }\n",
              "      </script>\n",
              "    </div>\n",
              "  </div>\n",
              "  "
            ]
          },
          "metadata": {},
          "execution_count": 1096
        }
      ]
    },
    {
      "cell_type": "code",
      "source": [
        "from sklearn.model_selection import train_test_split\n",
        "X_train_10, X_test_10, y_train_10, y_test_10 = train_test_split(new_20_features, data_y_trans, train_size = 0.80)"
      ],
      "metadata": {
        "id": "AsOyubAn0UV5"
      },
      "execution_count": 1097,
      "outputs": []
    },
    {
      "cell_type": "code",
      "source": [
        "from sklearn.preprocessing import StandardScaler \n",
        "ss_10 = StandardScaler()\n",
        "X_train_std_10 = ss_10.fit_transform(X_train_10)\n",
        "X_test_std_10 = ss_10.fit_transform(X_test_10)"
      ],
      "metadata": {
        "id": "rEystu4O0Pc5"
      },
      "execution_count": 1098,
      "outputs": []
    },
    {
      "cell_type": "code",
      "source": [
        "#XGBOOST as Classifier"
      ],
      "metadata": {
        "id": "zHol3uW8bzxq"
      },
      "execution_count": 1099,
      "outputs": []
    },
    {
      "cell_type": "code",
      "source": [
        "import xgboost as xgb"
      ],
      "metadata": {
        "id": "JBMX7qi7WI1y"
      },
      "execution_count": 1100,
      "outputs": []
    },
    {
      "cell_type": "code",
      "source": [
        "xgb_cl = xgb.XGBClassifier()"
      ],
      "metadata": {
        "id": "_RtSkvCV0bzC"
      },
      "execution_count": 1101,
      "outputs": []
    },
    {
      "cell_type": "code",
      "source": [
        "xgb_cl.fit(X_train_std_10, y_train_10)\n"
      ],
      "metadata": {
        "colab": {
          "base_uri": "https://localhost:8080/"
        },
        "id": "zw1KS9wTr3vz",
        "outputId": "db2d7995-a3d0-4a2e-88f1-f3192c059abf"
      },
      "execution_count": 1102,
      "outputs": [
        {
          "output_type": "execute_result",
          "data": {
            "text/plain": [
              "XGBClassifier(objective='multi:softprob')"
            ]
          },
          "metadata": {},
          "execution_count": 1102
        }
      ]
    },
    {
      "cell_type": "code",
      "source": [
        "preds = xgb_cl.predict(X_test_std_10)"
      ],
      "metadata": {
        "id": "aUaVO7FzmmcH"
      },
      "execution_count": 1103,
      "outputs": []
    },
    {
      "cell_type": "code",
      "source": [
        "from sklearn.metrics import accuracy_score"
      ],
      "metadata": {
        "id": "EJFAV3qqXR1X"
      },
      "execution_count": 1104,
      "outputs": []
    },
    {
      "cell_type": "code",
      "source": [
        "accuracy_score(y_test_10, preds)*100"
      ],
      "metadata": {
        "colab": {
          "base_uri": "https://localhost:8080/"
        },
        "id": "h7oAooOxoR2P",
        "outputId": "a3cddef5-9ee5-42d9-81f6-dfeb5001bca2"
      },
      "execution_count": 1105,
      "outputs": [
        {
          "output_type": "execute_result",
          "data": {
            "text/plain": [
              "61.111111111111114"
            ]
          },
          "metadata": {},
          "execution_count": 1105
        }
      ]
    },
    {
      "cell_type": "code",
      "source": [
        "#SVM as classifier"
      ],
      "metadata": {
        "id": "-EFFlelJWda_"
      },
      "execution_count": 1106,
      "outputs": []
    },
    {
      "cell_type": "code",
      "source": [
        "from sklearn.svm import SVC\n",
        "ML=SVC(kernel=\"rbf\")\n",
        "ML=ML.fit(X_train_std_10, y_train_10)\n",
        "res=ML.predict(X_test_std_10)\n",
        "from sklearn.metrics import accuracy_score\n",
        "ac=accuracy_score(res,y_test_10)\n",
        "print(ac*100)"
      ],
      "metadata": {
        "colab": {
          "base_uri": "https://localhost:8080/"
        },
        "id": "k1PJwWNjXj7X",
        "outputId": "b9301f69-a7c6-4e0c-9592-f9d324844beb"
      },
      "execution_count": 1107,
      "outputs": [
        {
          "output_type": "stream",
          "name": "stdout",
          "text": [
            "50.0\n"
          ]
        }
      ]
    },
    {
      "cell_type": "code",
      "source": [
        "#naiveabayes classifier"
      ],
      "metadata": {
        "id": "ps9rPwHIdsSB"
      },
      "execution_count": 1108,
      "outputs": []
    },
    {
      "cell_type": "code",
      "source": [
        "from sklearn.naive_bayes import GaussianNB\n",
        "from sklearn.naive_bayes import BernoulliNB\n"
      ],
      "metadata": {
        "id": "629aHy6_bKZg"
      },
      "execution_count": 1109,
      "outputs": []
    },
    {
      "cell_type": "code",
      "source": [
        "gnb=GaussianNB()\n",
        "ml1 = BernoulliNB(binarize=2)\n"
      ],
      "metadata": {
        "id": "6VNdFgZgcsl6"
      },
      "execution_count": 1110,
      "outputs": []
    },
    {
      "cell_type": "code",
      "source": [
        "model=gnb.fit(X_train_std_10, y_train_10)\n",
        "model1=ml1.fit(X_train_std_10, y_train_10)\n"
      ],
      "metadata": {
        "id": "XvMnMOq0cy7t"
      },
      "execution_count": 1111,
      "outputs": []
    },
    {
      "cell_type": "code",
      "source": [
        "res_1=model.predict(X_test_std_10)\n",
        "res_2=model1.predict(X_test_std_10)"
      ],
      "metadata": {
        "id": "E0i2Q5lfdHno"
      },
      "execution_count": 1112,
      "outputs": []
    },
    {
      "cell_type": "code",
      "source": [
        "from sklearn.metrics import accuracy_score"
      ],
      "metadata": {
        "id": "yL9YGDM_de7h"
      },
      "execution_count": 1113,
      "outputs": []
    },
    {
      "cell_type": "code",
      "source": [
        "accuracy_1=accuracy_score(y_test_10,res_1)\n",
        "print(\"Gaussian :\",accuracy_1*100)\n",
        "accuracy_2=accuracy_score(y_test_10,res_2)\n",
        "print(\"Bernoulli : \",accuracy_2*100)"
      ],
      "metadata": {
        "colab": {
          "base_uri": "https://localhost:8080/"
        },
        "id": "xtipY9kfdi8C",
        "outputId": "8f0784a4-ff75-481b-ecd8-1d3f52da9808"
      },
      "execution_count": 1114,
      "outputs": [
        {
          "output_type": "stream",
          "name": "stdout",
          "text": [
            "Gaussian : 50.0\n",
            "Bernoulli :  66.66666666666666\n"
          ]
        }
      ]
    },
    {
      "cell_type": "code",
      "source": [
        "#Decision tree classifier"
      ],
      "metadata": {
        "id": "mqTabv93lDBD"
      },
      "execution_count": 1115,
      "outputs": []
    },
    {
      "cell_type": "code",
      "source": [
        "from sklearn.tree import DecisionTreeClassifier"
      ],
      "metadata": {
        "id": "N78uXItPdno3"
      },
      "execution_count": 1116,
      "outputs": []
    },
    {
      "cell_type": "code",
      "source": [
        "clf = DecisionTreeClassifier(random_state=0,max_depth=1)"
      ],
      "metadata": {
        "id": "SqovJ6YEegcD"
      },
      "execution_count": 1117,
      "outputs": []
    },
    {
      "cell_type": "code",
      "source": [
        "clf = DecisionTreeClassifier(random_state=0)"
      ],
      "metadata": {
        "id": "aGceEVstejyI"
      },
      "execution_count": 1118,
      "outputs": []
    },
    {
      "cell_type": "code",
      "source": [
        "clf=clf.fit(X_train_std_10, y_train_10)"
      ],
      "metadata": {
        "id": "7TymfjcLenBM"
      },
      "execution_count": 1119,
      "outputs": []
    },
    {
      "cell_type": "code",
      "source": [
        "res=clf.predict(X_test_std_10)"
      ],
      "metadata": {
        "id": "5awpF0rZep-r"
      },
      "execution_count": 1120,
      "outputs": []
    },
    {
      "cell_type": "code",
      "source": [
        "accuracy_score(y_test_10, res)*100\n"
      ],
      "metadata": {
        "colab": {
          "base_uri": "https://localhost:8080/"
        },
        "id": "JSVuZx_ke_1Q",
        "outputId": "9d3958d7-ec5b-4d3f-f639-a69a0d50fa74"
      },
      "execution_count": 1121,
      "outputs": [
        {
          "output_type": "execute_result",
          "data": {
            "text/plain": [
              "50.0"
            ]
          },
          "metadata": {},
          "execution_count": 1121
        }
      ]
    },
    {
      "cell_type": "code",
      "source": [],
      "metadata": {
        "id": "j37wXUBcfI28"
      },
      "execution_count": 1121,
      "outputs": []
    }
  ]
}