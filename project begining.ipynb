{
  "nbformat": 4,
  "nbformat_minor": 0,
  "metadata": {
    "colab": {
      "provenance": [],
      "mount_file_id": "13aPr3eUcIlaICekwtoBhZXpWc--YIwLX",
      "authorship_tag": "ABX9TyOq2Bt+RKLtls7sHoudV7EC",
      "include_colab_link": true
    },
    "kernelspec": {
      "name": "python3",
      "display_name": "Python 3"
    },
    "language_info": {
      "name": "python"
    }
  },
  "cells": [
    {
      "cell_type": "markdown",
      "metadata": {
        "id": "view-in-github",
        "colab_type": "text"
      },
      "source": [
        "<a href=\"https://colab.research.google.com/github/Ansalnakhan/Medical-Image-Assgnmt/blob/main/project%20begining.ipynb\" target=\"_parent\"><img src=\"https://colab.research.google.com/assets/colab-badge.svg\" alt=\"Open In Colab\"/></a>"
      ]
    },
    {
      "cell_type": "code",
      "execution_count": 46,
      "metadata": {
        "colab": {
          "base_uri": "https://localhost:8080/"
        },
        "id": "d3k17-UXmCNA",
        "outputId": "ee2eda4b-3a6d-4b60-97b9-6636fa71e587"
      },
      "outputs": [
        {
          "output_type": "stream",
          "name": "stdout",
          "text": [
            "Drive already mounted at /content/drive; to attempt to forcibly remount, call drive.mount(\"/content/drive\", force_remount=True).\n"
          ]
        }
      ],
      "source": [
        "from google.colab import drive\n",
        "drive.mount('/content/drive')"
      ]
    },
    {
      "cell_type": "code",
      "source": [
        "!mkdir dataset\n",
        "!cd dataset\n",
        "!unzip /content/drive/MyDrive/naza.zip -d /content/dataset"
      ],
      "metadata": {
        "colab": {
          "base_uri": "https://localhost:8080/"
        },
        "id": "1HrVKgJAmyj0",
        "outputId": "81709cc7-eb66-450a-b541-1e374f44fe9f"
      },
      "execution_count": 47,
      "outputs": [
        {
          "output_type": "stream",
          "name": "stdout",
          "text": [
            "mkdir: cannot create directory ‘dataset’: File exists\n",
            "Archive:  /content/drive/MyDrive/naza.zip\n",
            "replace /content/dataset/B0007.mat? [y]es, [n]o, [A]ll, [N]one, [r]ename: "
          ]
        }
      ]
    },
    {
      "cell_type": "code",
      "source": [
        "import datetime\n",
        "import numpy as np\n",
        "import pandas as pd"
      ],
      "metadata": {
        "id": "7vLzmfyNmzGe"
      },
      "execution_count": 49,
      "outputs": []
    },
    {
      "cell_type": "code",
      "source": [
        "from scipy.io import loadmat\n",
        "model.add(Flatten())"
      ],
      "metadata": {
        "id": "OpkyhGmJm42a"
      },
      "execution_count": 51,
      "outputs": []
    },
    {
      "cell_type": "code",
      "source": [
        "from sklearn.metrics import mean_squared_error\n",
        "from sklearn import metrics\n",
        "import matplotlib.pyplot as plt"
      ],
      "metadata": {
        "id": "wXOZ8Zq2m9f1"
      },
      "execution_count": 52,
      "outputs": []
    },
    {
      "cell_type": "code",
      "source": [
        "from sklearn.metrics import confusion_matrix, accuracy_score, mean_absolute_error,r2_score\n",
        "import tensorflow as tf\n",
        "from tensorflow.keras.models import Sequential"
      ],
      "metadata": {
        "id": "WUEDoc_AnCLC"
      },
      "execution_count": 53,
      "outputs": []
    },
    {
      "cell_type": "code",
      "source": [
        "from tensorflow.keras.layers import Dense,Conv1D"
      ],
      "metadata": {
        "id": "_p70WyVAnHEB"
      },
      "execution_count": 54,
      "outputs": []
    },
    {
      "cell_type": "code",
      "source": [
        "from tensorflow.keras.layers import Dropout,BatchNormalization,Bidirectional,MaxPooling1D"
      ],
      "metadata": {
        "id": "15umBF0knPIu"
      },
      "execution_count": 55,
      "outputs": []
    },
    {
      "cell_type": "code",
      "source": [
        "from tensorflow.keras.optimizers import Adam\n",
        "from tensorflow.keras import Model,Input"
      ],
      "metadata": {
        "id": "GJWxz237nSxH"
      },
      "execution_count": 56,
      "outputs": []
    },
    {
      "cell_type": "code",
      "source": [
        "def load_data(battery):\n",
        "  mat = loadmat('./dataset/' + battery + '.mat')\n",
        "  print('Total data in dataset: ', len(mat[battery][0, 0]['cycle'][0]))\n",
        "  counter = 0\n",
        "  dataset = []\n",
        "  capacity_data = []\n",
        "  \n",
        "  for i in range(len(mat[battery][0, 0]['cycle'][0])):\n",
        "    row = mat[battery][0, 0]['cycle'][0, i]\n",
        "    if row['type'][0] == 'discharge':\n",
        "      ambient_temperature = row['ambient_temperature'][0][0]\n",
        "      date_time = datetime.datetime(int(row['time'][0][0]),\n",
        "                               int(row['time'][0][1]),\n",
        "                               int(row['time'][0][2]),\n",
        "                               int(row['time'][0][3]),\n",
        "                               int(row['time'][0][4])) + datetime.timedelta(seconds=int(row['time'][0][5]))\n",
        "      data = row['data']\n",
        "      capacity = data[0][0]['Capacity'][0][0]\n",
        "      for j in range(len(data[0][0]['Voltage_measured'][0])):\n",
        "        voltage_measured = data[0][0]['Voltage_measured'][0][j]\n",
        "        current_measured = data[0][0]['Current_measured'][0][j]\n",
        "        temperature_measured = data[0][0]['Temperature_measured'][0][j]\n",
        "        current_load = data[0][0]['Current_load'][0][j]\n",
        "        voltage_load = data[0][0]['Voltage_load'][0][j]\n",
        "        time = data[0][0]['Time'][0][j]\n",
        "        dataset.append([counter + 1, ambient_temperature, date_time, capacity,\n",
        "                        voltage_measured, current_measured,\n",
        "                        temperature_measured, current_load,\n",
        "                        voltage_load, time])\n",
        "      capacity_data.append([counter + 1, ambient_temperature, date_time, capacity])\n",
        "      counter = counter + 1\n",
        "  print(dataset[0])\n",
        "  return [pd.DataFrame(data=dataset,\n",
        "                       columns=['cycle', 'ambient_temperature', 'datetime',\n",
        "                                'capacity', 'voltage_measured',\n",
        "                                'current_measured', 'temperature_measured',\n",
        "                                'current_load', 'voltage_load', 'time']),\n",
        "          pd.DataFrame(data=capacity_data,\n",
        "                       columns=['cycle', 'ambient_temperature', 'datetime',\n",
        "                                'capacity'])]"
      ],
      "metadata": {
        "id": "EX_5XXvsnXx2"
      },
      "execution_count": 57,
      "outputs": []
    },
    {
      "cell_type": "code",
      "source": [
        "dataset_val, capacity_val = load_data('B0005')\n",
        "attrib=['capacity', 'cycle']\n",
        "dis_ele = capacity_val[attrib]\n",
        "rows=['capacity','cycle']\n",
        "dataset=dis_ele[rows]\n",
        "data_train=dataset[(dataset['cycle']<90)]\n",
        "data_set_train=data_train.iloc[:,1:2].values\n",
        "data_test=dataset[(dataset['cycle']<=10)]\n",
        "data_set_test=data_test.iloc[:,1:2].values\n",
        "\n",
        "from sklearn.preprocessing import MinMaxScaler\n",
        "sc=MinMaxScaler(feature_range=(0,1))\n",
        "data_set_train=sc.fit_transform(data_set_train)\n",
        "data_set_test=sc.transform(data_set_test)\n",
        "\n",
        "X_train=[]\n",
        "y_train=[]\n",
        "#created window of 10\n",
        "for i in range(10,89):\n",
        "    X_train.append(data_set_train[i-10:i,0])\n",
        "    y_train.append(data_set_train[i,0])\n",
        "X_train,y_train=np.array(X_train),np.array(y_train)\n",
        " \n",
        "X_train=np.reshape(X_train,(X_train.shape[0],X_train.shape[1],1))"
      ],
      "metadata": {
        "colab": {
          "base_uri": "https://localhost:8080/"
        },
        "id": "FUv8822hn7Tq",
        "outputId": "92981ba3-a3fc-4859-e004-ebbfcc5a5f3e"
      },
      "execution_count": 58,
      "outputs": [
        {
          "output_type": "stream",
          "name": "stdout",
          "text": [
            "Total data in dataset:  616\n",
            "[1, 24, datetime.datetime(2008, 4, 2, 15, 25, 41), 1.8564874208181574, 4.191491807505295, -0.004901589207462691, 24.330033885570543, -0.0006, 0.0, 0.0]\n"
          ]
        }
      ]
    },
    {
      "cell_type": "code",
      "source": [
        "dataset_val, capacity_val"
      ],
      "metadata": {
        "colab": {
          "base_uri": "https://localhost:8080/"
        },
        "id": "Un46xkX6oR6t",
        "outputId": "0ed3c623-2834-455b-df6e-5628552fdbd9"
      },
      "execution_count": 59,
      "outputs": [
        {
          "output_type": "execute_result",
          "data": {
            "text/plain": [
              "(       cycle  ambient_temperature            datetime  capacity  \\\n",
              " 0          1                   24 2008-04-02 15:25:41  1.856487   \n",
              " 1          1                   24 2008-04-02 15:25:41  1.856487   \n",
              " 2          1                   24 2008-04-02 15:25:41  1.856487   \n",
              " 3          1                   24 2008-04-02 15:25:41  1.856487   \n",
              " 4          1                   24 2008-04-02 15:25:41  1.856487   \n",
              " ...      ...                  ...                 ...       ...   \n",
              " 50280    168                   24 2008-05-27 20:45:42  1.325079   \n",
              " 50281    168                   24 2008-05-27 20:45:42  1.325079   \n",
              " 50282    168                   24 2008-05-27 20:45:42  1.325079   \n",
              " 50283    168                   24 2008-05-27 20:45:42  1.325079   \n",
              " 50284    168                   24 2008-05-27 20:45:42  1.325079   \n",
              " \n",
              "        voltage_measured  current_measured  temperature_measured  current_load  \\\n",
              " 0              4.191492         -0.004902             24.330034       -0.0006   \n",
              " 1              4.190749         -0.001478             24.325993       -0.0006   \n",
              " 2              3.974871         -2.012528             24.389085       -1.9982   \n",
              " 3              3.951717         -2.013979             24.544752       -1.9982   \n",
              " 4              3.934352         -2.011144             24.731385       -1.9982   \n",
              " ...                 ...               ...                   ...           ...   \n",
              " 50280          3.579262         -0.001569             34.864823        0.0006   \n",
              " 50281          3.581964         -0.003067             34.814770        0.0006   \n",
              " 50282          3.584484         -0.003079             34.676258        0.0006   \n",
              " 50283          3.587336          0.001219             34.565580        0.0006   \n",
              " 50284          3.589937         -0.000583             34.405920        0.0006   \n",
              " \n",
              "        voltage_load      time  \n",
              " 0             0.000     0.000  \n",
              " 1             4.206    16.781  \n",
              " 2             3.062    35.703  \n",
              " 3             3.030    53.781  \n",
              " 4             3.011    71.922  \n",
              " ...             ...       ...  \n",
              " 50280         0.000  2781.312  \n",
              " 50281         0.000  2791.062  \n",
              " 50282         0.000  2800.828  \n",
              " 50283         0.000  2810.640  \n",
              " 50284         0.000  2820.390  \n",
              " \n",
              " [50285 rows x 10 columns],\n",
              "      cycle  ambient_temperature            datetime  capacity\n",
              " 0        1                   24 2008-04-02 15:25:41  1.856487\n",
              " 1        2                   24 2008-04-02 19:43:48  1.846327\n",
              " 2        3                   24 2008-04-03 00:01:06  1.835349\n",
              " 3        4                   24 2008-04-03 04:16:37  1.835263\n",
              " 4        5                   24 2008-04-03 08:33:25  1.834646\n",
              " ..     ...                  ...                 ...       ...\n",
              " 163    164                   24 2008-05-26 10:44:38  1.293464\n",
              " 164    165                   24 2008-05-26 15:30:43  1.288003\n",
              " 165    166                   24 2008-05-26 20:21:04  1.287453\n",
              " 166    167                   24 2008-05-27 15:52:41  1.309015\n",
              " 167    168                   24 2008-05-27 20:45:42  1.325079\n",
              " \n",
              " [168 rows x 4 columns])"
            ]
          },
          "metadata": {},
          "execution_count": 59
        }
      ]
    },
    {
      "cell_type": "code",
      "source": [
        "model = Sequential()\n",
        "model.add(Conv1D(filters=256, kernel_size=3, input_shape=(10, 1)))\n",
        "model.add(MaxPooling1D(pool_size=2 ))\n",
        "model.add(Flatten())\n",
        "model.add(Dropout(0.5))\n",
        "model.add(Dense(16, input_dim=10, activation='relu'))\n",
        "model.add(Dropout(0.5))\n",
        "model.add(Dense(8, activation='relu'))\n",
        "model.add(Dense(1, activation='relu'))\n",
        "model.add(Dense(1, activation='softmax'))  "
      ],
      "metadata": {
        "id": "Xq9_teRB4erd"
      },
      "execution_count": 96,
      "outputs": []
    },
    {
      "cell_type": "code",
      "source": [
        "model = Sequential()\n",
        "model.add(Conv1D(filters=256, kernel_size=3, padding='same', activation='relu'))\n",
        "model.add(Conv1D(filters=128, kernel_size=3, padding='same', activation='relu'))\n",
        "model.add(Flatten())\n",
        "model.add(Dropout(0.5))\n",
        "model.add(Dense(128, input_dim=10, activation='relu'))\n",
        "model.add(Dropout(0.5))\n",
        "model.add(Dense(64, activation='relu'))\n",
        "model.add(Dense(1, activation='softmax'))\n"
      ],
      "metadata": {
        "id": "hQw_ozfZzaoU"
      },
      "execution_count": 78,
      "outputs": []
    },
    {
      "cell_type": "code",
      "source": [
        "model=Sequential()"
      ],
      "metadata": {
        "id": "ZG2U07s1w7BQ"
      },
      "execution_count": 34,
      "outputs": []
    },
    {
      "cell_type": "code",
      "source": [
        "model.add(Conv1D(filters=256, kernel_size=3, padding='same', activation='relu'))"
      ],
      "metadata": {
        "id": "dIXwEN2CxBhM"
      },
      "execution_count": 39,
      "outputs": []
    },
    {
      "cell_type": "code",
      "source": [
        "model.add(MaxPooling1D(pool_size=2))"
      ],
      "metadata": {
        "id": "GPkQ3R4MyC2o"
      },
      "execution_count": 40,
      "outputs": []
    },
    {
      "cell_type": "code",
      "source": [
        "from tensorflow.keras.layers import Flatten"
      ],
      "metadata": {
        "id": "3oL8yPn0yfS2"
      },
      "execution_count": 42,
      "outputs": []
    },
    {
      "cell_type": "code",
      "source": [
        "model.add(Flatten())\n",
        "model.add(Dense(units=1))"
      ],
      "metadata": {
        "id": "DGFNZVQbyQF3"
      },
      "execution_count": 43,
      "outputs": []
    },
    {
      "cell_type": "code",
      "source": [
        "adam = tf.keras.optimizers.Adam(\n",
        "    learning_rate=8e-4)"
      ],
      "metadata": {
        "id": "ttAMa-TGxJJ_"
      },
      "execution_count": 97,
      "outputs": []
    },
    {
      "cell_type": "code",
      "source": [
        "model.compile(optimizer=adam,loss=tf.keras.losses.Huber(),metrics=tf.keras.metrics.RootMeanSquaredError())\n"
      ],
      "metadata": {
        "id": "UI2lpgk8xfFF"
      },
      "execution_count": 98,
      "outputs": []
    },
    {
      "cell_type": "code",
      "source": [
        "model.fit(X_train, y_train, epochs=50, batch_size=128)"
      ],
      "metadata": {
        "colab": {
          "base_uri": "https://localhost:8080/"
        },
        "id": "yuzIBcbBxnLc",
        "outputId": "aa024867-5a3e-4a4e-e519-3b8b8cd1b803"
      },
      "execution_count": 99,
      "outputs": [
        {
          "output_type": "stream",
          "name": "stdout",
          "text": [
            "Epoch 1/50\n",
            "1/1 [==============================] - 1s 828ms/step - loss: 0.1318 - root_mean_squared_error: 0.5134\n",
            "Epoch 2/50\n",
            "1/1 [==============================] - 0s 15ms/step - loss: 0.1318 - root_mean_squared_error: 0.5134\n",
            "Epoch 3/50\n",
            "1/1 [==============================] - 0s 17ms/step - loss: 0.1318 - root_mean_squared_error: 0.5134\n",
            "Epoch 4/50\n",
            "1/1 [==============================] - 0s 14ms/step - loss: 0.1318 - root_mean_squared_error: 0.5134\n",
            "Epoch 5/50\n",
            "1/1 [==============================] - 0s 15ms/step - loss: 0.1318 - root_mean_squared_error: 0.5134\n",
            "Epoch 6/50\n",
            "1/1 [==============================] - 0s 16ms/step - loss: 0.1318 - root_mean_squared_error: 0.5134\n",
            "Epoch 7/50\n",
            "1/1 [==============================] - 0s 16ms/step - loss: 0.1318 - root_mean_squared_error: 0.5134\n",
            "Epoch 8/50\n",
            "1/1 [==============================] - 0s 16ms/step - loss: 0.1318 - root_mean_squared_error: 0.5134\n",
            "Epoch 9/50\n",
            "1/1 [==============================] - 0s 17ms/step - loss: 0.1318 - root_mean_squared_error: 0.5134\n",
            "Epoch 10/50\n",
            "1/1 [==============================] - 0s 16ms/step - loss: 0.1318 - root_mean_squared_error: 0.5134\n",
            "Epoch 11/50\n",
            "1/1 [==============================] - 0s 17ms/step - loss: 0.1318 - root_mean_squared_error: 0.5134\n",
            "Epoch 12/50\n",
            "1/1 [==============================] - 0s 16ms/step - loss: 0.1318 - root_mean_squared_error: 0.5134\n",
            "Epoch 13/50\n",
            "1/1 [==============================] - 0s 17ms/step - loss: 0.1318 - root_mean_squared_error: 0.5134\n",
            "Epoch 14/50\n",
            "1/1 [==============================] - 0s 14ms/step - loss: 0.1318 - root_mean_squared_error: 0.5134\n",
            "Epoch 15/50\n",
            "1/1 [==============================] - 0s 19ms/step - loss: 0.1318 - root_mean_squared_error: 0.5134\n",
            "Epoch 16/50\n",
            "1/1 [==============================] - 0s 16ms/step - loss: 0.1318 - root_mean_squared_error: 0.5134\n",
            "Epoch 17/50\n",
            "1/1 [==============================] - 0s 17ms/step - loss: 0.1318 - root_mean_squared_error: 0.5134\n",
            "Epoch 18/50\n",
            "1/1 [==============================] - 0s 17ms/step - loss: 0.1318 - root_mean_squared_error: 0.5134\n",
            "Epoch 19/50\n",
            "1/1 [==============================] - 0s 23ms/step - loss: 0.1318 - root_mean_squared_error: 0.5134\n",
            "Epoch 20/50\n",
            "1/1 [==============================] - 0s 22ms/step - loss: 0.1318 - root_mean_squared_error: 0.5134\n",
            "Epoch 21/50\n",
            "1/1 [==============================] - 0s 14ms/step - loss: 0.1318 - root_mean_squared_error: 0.5134\n",
            "Epoch 22/50\n",
            "1/1 [==============================] - 0s 19ms/step - loss: 0.1318 - root_mean_squared_error: 0.5134\n",
            "Epoch 23/50\n",
            "1/1 [==============================] - 0s 16ms/step - loss: 0.1318 - root_mean_squared_error: 0.5134\n",
            "Epoch 24/50\n",
            "1/1 [==============================] - 0s 13ms/step - loss: 0.1318 - root_mean_squared_error: 0.5134\n",
            "Epoch 25/50\n",
            "1/1 [==============================] - 0s 18ms/step - loss: 0.1318 - root_mean_squared_error: 0.5134\n",
            "Epoch 26/50\n",
            "1/1 [==============================] - 0s 12ms/step - loss: 0.1318 - root_mean_squared_error: 0.5134\n",
            "Epoch 27/50\n",
            "1/1 [==============================] - 0s 19ms/step - loss: 0.1318 - root_mean_squared_error: 0.5134\n",
            "Epoch 28/50\n",
            "1/1 [==============================] - 0s 16ms/step - loss: 0.1318 - root_mean_squared_error: 0.5134\n",
            "Epoch 29/50\n",
            "1/1 [==============================] - 0s 14ms/step - loss: 0.1318 - root_mean_squared_error: 0.5134\n",
            "Epoch 30/50\n",
            "1/1 [==============================] - 0s 20ms/step - loss: 0.1318 - root_mean_squared_error: 0.5134\n",
            "Epoch 31/50\n",
            "1/1 [==============================] - 0s 22ms/step - loss: 0.1318 - root_mean_squared_error: 0.5134\n",
            "Epoch 32/50\n",
            "1/1 [==============================] - 0s 18ms/step - loss: 0.1318 - root_mean_squared_error: 0.5134\n",
            "Epoch 33/50\n",
            "1/1 [==============================] - 0s 16ms/step - loss: 0.1318 - root_mean_squared_error: 0.5134\n",
            "Epoch 34/50\n",
            "1/1 [==============================] - 0s 15ms/step - loss: 0.1318 - root_mean_squared_error: 0.5134\n",
            "Epoch 35/50\n",
            "1/1 [==============================] - 0s 17ms/step - loss: 0.1318 - root_mean_squared_error: 0.5134\n",
            "Epoch 36/50\n",
            "1/1 [==============================] - 0s 21ms/step - loss: 0.1318 - root_mean_squared_error: 0.5134\n",
            "Epoch 37/50\n",
            "1/1 [==============================] - 0s 17ms/step - loss: 0.1318 - root_mean_squared_error: 0.5134\n",
            "Epoch 38/50\n",
            "1/1 [==============================] - 0s 17ms/step - loss: 0.1318 - root_mean_squared_error: 0.5134\n",
            "Epoch 39/50\n",
            "1/1 [==============================] - 0s 18ms/step - loss: 0.1318 - root_mean_squared_error: 0.5134\n",
            "Epoch 40/50\n",
            "1/1 [==============================] - 0s 16ms/step - loss: 0.1318 - root_mean_squared_error: 0.5134\n",
            "Epoch 41/50\n",
            "1/1 [==============================] - 0s 17ms/step - loss: 0.1318 - root_mean_squared_error: 0.5134\n",
            "Epoch 42/50\n",
            "1/1 [==============================] - 0s 21ms/step - loss: 0.1318 - root_mean_squared_error: 0.5134\n",
            "Epoch 43/50\n",
            "1/1 [==============================] - 0s 28ms/step - loss: 0.1318 - root_mean_squared_error: 0.5134\n",
            "Epoch 44/50\n",
            "1/1 [==============================] - 0s 18ms/step - loss: 0.1318 - root_mean_squared_error: 0.5134\n",
            "Epoch 45/50\n",
            "1/1 [==============================] - 0s 17ms/step - loss: 0.1318 - root_mean_squared_error: 0.5134\n",
            "Epoch 46/50\n",
            "1/1 [==============================] - 0s 17ms/step - loss: 0.1318 - root_mean_squared_error: 0.5134\n",
            "Epoch 47/50\n",
            "1/1 [==============================] - 0s 19ms/step - loss: 0.1318 - root_mean_squared_error: 0.5134\n",
            "Epoch 48/50\n",
            "1/1 [==============================] - 0s 18ms/step - loss: 0.1318 - root_mean_squared_error: 0.5134\n",
            "Epoch 49/50\n",
            "1/1 [==============================] - 0s 18ms/step - loss: 0.1318 - root_mean_squared_error: 0.5134\n",
            "Epoch 50/50\n",
            "1/1 [==============================] - 0s 14ms/step - loss: 0.1318 - root_mean_squared_error: 0.5134\n"
          ]
        },
        {
          "output_type": "execute_result",
          "data": {
            "text/plain": [
              "<keras.callbacks.History at 0x7fe815b63ad0>"
            ]
          },
          "metadata": {},
          "execution_count": 99
        }
      ]
    },
    {
      "cell_type": "code",
      "source": [
        "from keras.models import Sequential"
      ],
      "metadata": {
        "id": "gKWaTW1q3sKt"
      },
      "execution_count": 76,
      "outputs": []
    },
    {
      "cell_type": "code",
      "source": [
        "predictions = model.predict_proba(X_test)"
      ],
      "metadata": {
        "colab": {
          "base_uri": "https://localhost:8080/",
          "height": 165
        },
        "id": "qqMfst3m2gNX",
        "outputId": "e24f8db2-6bf4-4f0a-fc8f-f9a32bdbd22d"
      },
      "execution_count": 77,
      "outputs": [
        {
          "output_type": "error",
          "ename": "AttributeError",
          "evalue": "ignored",
          "traceback": [
            "\u001b[0;31m---------------------------------------------------------------------------\u001b[0m",
            "\u001b[0;31mAttributeError\u001b[0m                            Traceback (most recent call last)",
            "\u001b[0;32m<ipython-input-77-8479de99c91c>\u001b[0m in \u001b[0;36m<module>\u001b[0;34m\u001b[0m\n\u001b[0;32m----> 1\u001b[0;31m \u001b[0mpredictions\u001b[0m \u001b[0;34m=\u001b[0m \u001b[0mmodel\u001b[0m\u001b[0;34m.\u001b[0m\u001b[0mpredict_proba\u001b[0m\u001b[0;34m(\u001b[0m\u001b[0mX_test\u001b[0m\u001b[0;34m)\u001b[0m\u001b[0;34m\u001b[0m\u001b[0;34m\u001b[0m\u001b[0m\n\u001b[0m",
            "\u001b[0;31mAttributeError\u001b[0m: 'Sequential' object has no attribute 'predict_proba'"
          ]
        }
      ]
    },
    {
      "cell_type": "code",
      "source": [],
      "metadata": {
        "id": "oMw1RWca3gTF"
      },
      "execution_count": null,
      "outputs": []
    }
  ]
}